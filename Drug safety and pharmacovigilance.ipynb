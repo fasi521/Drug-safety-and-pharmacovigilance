{
 "cells": [
  {
   "cell_type": "markdown",
   "metadata": {},
   "source": [
    "# Drug safety and pharmacovigilance"
   ]
  },
  {
   "cell_type": "markdown",
   "metadata": {},
   "source": [
    "#### Drug safety and pharmacovigilance are critical aspects of the pharmaceutical industry that focus on monitoring, assessing, and preventing adverse effects or any other drug-related problems. Python, as a versatile programming language, is widely used in this field for various tasks, including data analysis,signal detection, and automation of pharmacovigilance processes. Some ways Python is utilized in drug safety and pharmacovigilance:"
   ]
  },
  {
   "cell_type": "markdown",
   "metadata": {},
   "source": [
    "Since as a beginner in machine learning it would be a great opportunity to try some techniques to predict the\n",
    "outcome of the drugs that might be accurate for the patient."
   ]
  },
  {
   "cell_type": "code",
   "execution_count": 1,
   "metadata": {},
   "outputs": [],
   "source": [
    "#Step 1: Import Required Libraries\n",
    "import pandas as pd\n",
    "from sklearn.metrics import mean_squared_error, r2_score, mean_absolute_error"
   ]
  },
  {
   "cell_type": "code",
   "execution_count": 2,
   "metadata": {},
   "outputs": [],
   "source": [
    "from sklearn.linear_model import LinearRegression\n",
    "from sklearn.tree import DecisionTreeRegressor\n",
    "from sklearn.ensemble import RandomForestRegressor, GradientBoostingRegressor\n",
    "from sklearn.svm import SVR\n"
   ]
  },
  {
   "cell_type": "code",
   "execution_count": 3,
   "metadata": {},
   "outputs": [],
   "source": [
    "import numpy as np"
   ]
  },
  {
   "cell_type": "code",
   "execution_count": 4,
   "metadata": {},
   "outputs": [],
   "source": [
    "import matplotlib.pyplot as plt"
   ]
  },
  {
   "cell_type": "code",
   "execution_count": 5,
   "metadata": {},
   "outputs": [],
   "source": [
    "import seaborn as sns"
   ]
  },
  {
   "cell_type": "code",
   "execution_count": 6,
   "metadata": {},
   "outputs": [],
   "source": [
    "#Step 2: Load the Dataset"
   ]
  },
  {
   "cell_type": "code",
   "execution_count": 7,
   "metadata": {},
   "outputs": [],
   "source": [
    "df=pd.read_csv(\"Drug safety and pharmacovigilance.csv\")"
   ]
  },
  {
   "cell_type": "code",
   "execution_count": 8,
   "metadata": {},
   "outputs": [
    {
     "data": {
      "text/html": [
       "<div>\n",
       "<style scoped>\n",
       "    .dataframe tbody tr th:only-of-type {\n",
       "        vertical-align: middle;\n",
       "    }\n",
       "\n",
       "    .dataframe tbody tr th {\n",
       "        vertical-align: top;\n",
       "    }\n",
       "\n",
       "    .dataframe thead th {\n",
       "        text-align: right;\n",
       "    }\n",
       "</style>\n",
       "<table border=\"1\" class=\"dataframe\">\n",
       "  <thead>\n",
       "    <tr style=\"text-align: right;\">\n",
       "      <th></th>\n",
       "      <th>Age</th>\n",
       "      <th>Sex</th>\n",
       "      <th>BP</th>\n",
       "      <th>Cholesterol</th>\n",
       "      <th>Na_to_K</th>\n",
       "      <th>Drug</th>\n",
       "    </tr>\n",
       "  </thead>\n",
       "  <tbody>\n",
       "    <tr>\n",
       "      <th>0</th>\n",
       "      <td>23</td>\n",
       "      <td>F</td>\n",
       "      <td>HIGH</td>\n",
       "      <td>HIGH</td>\n",
       "      <td>25.355</td>\n",
       "      <td>DrugY</td>\n",
       "    </tr>\n",
       "    <tr>\n",
       "      <th>1</th>\n",
       "      <td>47</td>\n",
       "      <td>M</td>\n",
       "      <td>LOW</td>\n",
       "      <td>HIGH</td>\n",
       "      <td>13.093</td>\n",
       "      <td>drugC</td>\n",
       "    </tr>\n",
       "    <tr>\n",
       "      <th>2</th>\n",
       "      <td>47</td>\n",
       "      <td>M</td>\n",
       "      <td>LOW</td>\n",
       "      <td>HIGH</td>\n",
       "      <td>10.114</td>\n",
       "      <td>drugC</td>\n",
       "    </tr>\n",
       "    <tr>\n",
       "      <th>3</th>\n",
       "      <td>28</td>\n",
       "      <td>F</td>\n",
       "      <td>NORMAL</td>\n",
       "      <td>HIGH</td>\n",
       "      <td>7.798</td>\n",
       "      <td>drugX</td>\n",
       "    </tr>\n",
       "    <tr>\n",
       "      <th>4</th>\n",
       "      <td>61</td>\n",
       "      <td>F</td>\n",
       "      <td>LOW</td>\n",
       "      <td>HIGH</td>\n",
       "      <td>18.043</td>\n",
       "      <td>DrugY</td>\n",
       "    </tr>\n",
       "  </tbody>\n",
       "</table>\n",
       "</div>"
      ],
      "text/plain": [
       "   Age Sex      BP Cholesterol  Na_to_K   Drug\n",
       "0   23   F    HIGH        HIGH   25.355  DrugY\n",
       "1   47   M     LOW        HIGH   13.093  drugC\n",
       "2   47   M     LOW        HIGH   10.114  drugC\n",
       "3   28   F  NORMAL        HIGH    7.798  drugX\n",
       "4   61   F     LOW        HIGH   18.043  DrugY"
      ]
     },
     "execution_count": 8,
     "metadata": {},
     "output_type": "execute_result"
    }
   ],
   "source": [
    "df.head()"
   ]
  },
  {
   "cell_type": "code",
   "execution_count": 9,
   "metadata": {},
   "outputs": [],
   "source": [
    "#Step 3: Data Cleaning (if necessary)"
   ]
  },
  {
   "cell_type": "code",
   "execution_count": 10,
   "metadata": {},
   "outputs": [
    {
     "data": {
      "text/plain": [
       "Age            0\n",
       "Sex            0\n",
       "BP             0\n",
       "Cholesterol    0\n",
       "Na_to_K        0\n",
       "Drug           0\n",
       "dtype: int64"
      ]
     },
     "execution_count": 10,
     "metadata": {},
     "output_type": "execute_result"
    }
   ],
   "source": [
    "df.isnull().sum()"
   ]
  },
  {
   "cell_type": "markdown",
   "metadata": {},
   "source": [
    "there is no missing values"
   ]
  },
  {
   "cell_type": "code",
   "execution_count": 11,
   "metadata": {},
   "outputs": [
    {
     "data": {
      "text/plain": [
       "0"
      ]
     },
     "execution_count": 11,
     "metadata": {},
     "output_type": "execute_result"
    }
   ],
   "source": [
    "df.duplicated().sum()"
   ]
  },
  {
   "cell_type": "markdown",
   "metadata": {},
   "source": [
    "there is no duplicate values"
   ]
  },
  {
   "cell_type": "code",
   "execution_count": 12,
   "metadata": {},
   "outputs": [
    {
     "name": "stdout",
     "output_type": "stream",
     "text": [
      "<class 'pandas.core.frame.DataFrame'>\n",
      "RangeIndex: 200 entries, 0 to 199\n",
      "Data columns (total 6 columns):\n",
      " #   Column       Non-Null Count  Dtype  \n",
      "---  ------       --------------  -----  \n",
      " 0   Age          200 non-null    int64  \n",
      " 1   Sex          200 non-null    object \n",
      " 2   BP           200 non-null    object \n",
      " 3   Cholesterol  200 non-null    object \n",
      " 4   Na_to_K      200 non-null    float64\n",
      " 5   Drug         200 non-null    object \n",
      "dtypes: float64(1), int64(1), object(4)\n",
      "memory usage: 9.5+ KB\n"
     ]
    }
   ],
   "source": [
    "df.info()"
   ]
  },
  {
   "cell_type": "code",
   "execution_count": 13,
   "metadata": {},
   "outputs": [
    {
     "data": {
      "text/html": [
       "<div>\n",
       "<style scoped>\n",
       "    .dataframe tbody tr th:only-of-type {\n",
       "        vertical-align: middle;\n",
       "    }\n",
       "\n",
       "    .dataframe tbody tr th {\n",
       "        vertical-align: top;\n",
       "    }\n",
       "\n",
       "    .dataframe thead th {\n",
       "        text-align: right;\n",
       "    }\n",
       "</style>\n",
       "<table border=\"1\" class=\"dataframe\">\n",
       "  <thead>\n",
       "    <tr style=\"text-align: right;\">\n",
       "      <th></th>\n",
       "      <th>Age</th>\n",
       "      <th>Na_to_K</th>\n",
       "    </tr>\n",
       "  </thead>\n",
       "  <tbody>\n",
       "    <tr>\n",
       "      <th>count</th>\n",
       "      <td>200.000000</td>\n",
       "      <td>200.000000</td>\n",
       "    </tr>\n",
       "    <tr>\n",
       "      <th>mean</th>\n",
       "      <td>44.315000</td>\n",
       "      <td>16.084485</td>\n",
       "    </tr>\n",
       "    <tr>\n",
       "      <th>std</th>\n",
       "      <td>16.544315</td>\n",
       "      <td>7.223956</td>\n",
       "    </tr>\n",
       "    <tr>\n",
       "      <th>min</th>\n",
       "      <td>15.000000</td>\n",
       "      <td>6.269000</td>\n",
       "    </tr>\n",
       "    <tr>\n",
       "      <th>25%</th>\n",
       "      <td>31.000000</td>\n",
       "      <td>10.445500</td>\n",
       "    </tr>\n",
       "    <tr>\n",
       "      <th>50%</th>\n",
       "      <td>45.000000</td>\n",
       "      <td>13.936500</td>\n",
       "    </tr>\n",
       "    <tr>\n",
       "      <th>75%</th>\n",
       "      <td>58.000000</td>\n",
       "      <td>19.380000</td>\n",
       "    </tr>\n",
       "    <tr>\n",
       "      <th>max</th>\n",
       "      <td>74.000000</td>\n",
       "      <td>38.247000</td>\n",
       "    </tr>\n",
       "  </tbody>\n",
       "</table>\n",
       "</div>"
      ],
      "text/plain": [
       "              Age     Na_to_K\n",
       "count  200.000000  200.000000\n",
       "mean    44.315000   16.084485\n",
       "std     16.544315    7.223956\n",
       "min     15.000000    6.269000\n",
       "25%     31.000000   10.445500\n",
       "50%     45.000000   13.936500\n",
       "75%     58.000000   19.380000\n",
       "max     74.000000   38.247000"
      ]
     },
     "execution_count": 13,
     "metadata": {},
     "output_type": "execute_result"
    }
   ],
   "source": [
    "df.describe()"
   ]
  },
  {
   "cell_type": "code",
   "execution_count": 14,
   "metadata": {},
   "outputs": [],
   "source": [
    "#Step 4: Exploratory Data Analysis (EDA)"
   ]
  },
  {
   "cell_type": "markdown",
   "metadata": {},
   "source": [
    "#### UNIVARIATE ANALYSIS"
   ]
  },
  {
   "cell_type": "markdown",
   "metadata": {},
   "source": [
    "1. Distribution of Age and Sex:"
   ]
  },
  {
   "cell_type": "code",
   "execution_count": 15,
   "metadata": {},
   "outputs": [
    {
     "data": {
      "image/png": "[encoded data removed]",
      "text/plain": [
       "<Figure size 720x360 with 1 Axes>"
      ]
     },
     "metadata": {
      "needs_background": "light"
     },
     "output_type": "display_data"
    }
   ],
   "source": [
    "#age\n",
    "plt.figure(figsize=(10,5))\n",
    "sns.histplot(df[\"Age\"],kde=True,bins=10)\n",
    "plt.title(\"Age Distribution\")\n",
    "plt.xlabel(\"Age\")\n",
    "plt.ylabel(\"frequency\")\n",
    "plt.show()"
   ]
  },
  {
   "cell_type": "markdown",
   "metadata": {},
   "source": [
    "1. **Age Distribution**: This shows how different age groups are represented within your dataset. The histogram and line graph in your image indicate that the most common age group is 40-50 years.\n",
    "\n",
    "2. **Demographic Trends**: Understanding the age distribution can help identify trends such as the majority age group, which in your case seems to be middle-aged individuals. This can be useful for targeting specific age groups for marketing or health interventions.\n",
    "\n",
    "3. **Pharmacy Workforce**: If your data pertains to the pharmacy workforce, knowing the age distribution can help in workforce planning, identifying potential retirement waves, and planning for future hiring needs¹.\n",
    "\n",
    "4. **Healthcare Delivery**: Age distribution data can also inform healthcare delivery strategies, ensuring that services are tailored to the age groups most prevalent in your dataset².\n"
   ]
  },
  {
   "cell_type": "code",
   "execution_count": 16,
   "metadata": {},
   "outputs": [
    {
     "data": {
      "text/plain": [
       "Text(0, 0.5, 'frequency')"
      ]
     },
     "execution_count": 16,
     "metadata": {},
     "output_type": "execute_result"
    },
    {
     "data": {
      "image/png": "[encoded data removed]",
      "text/plain": [
       "<Figure size 360x504 with 1 Axes>"
      ]
     },
     "metadata": {
      "needs_background": "light"
     },
     "output_type": "display_data"
    }
   ],
   "source": [
    "#sex\n",
    "plt.figure(figsize=(5,7))\n",
    "sns.countplot(data=df,x=\"Sex\")\n",
    "plt.title(\"countplot of sex\")\n",
    "plt.xlabel(\"sex\")\n",
    "plt.ylabel(\"frequency\")"
   ]
  },
  {
   "cell_type": "markdown",
   "metadata": {},
   "source": [
    "1. **Equal Distribution**: Both categories, \"F\" and \"M\", have approximately equal counts, each reaching up to around 100. This indicates a balanced representation of both sexes in your dataset.\n",
    "\n",
    "2. **Data Representation**: The equal frequency suggests that any analysis or conclusions drawn from this dataset will not be biased towards one sex over the other, making it a well-balanced sample for studies that require gender parity.\n",
    "\n",
    "3. **Pharmacy Data Implications**: If this data is from a pharmacy context, it could imply that both males and females are equally represented in the customer base or workforce. This balance can be beneficial for understanding gender-specific health trends or workforce dynamics."
   ]
  },
  {
   "cell_type": "code",
   "execution_count": 17,
   "metadata": {},
   "outputs": [
    {
     "data": {
      "text/plain": [
       "Text(0, 0.5, 'frequency')"
      ]
     },
     "execution_count": 17,
     "metadata": {},
     "output_type": "execute_result"
    },
    {
     "data": {
      "image/png": "[encoded data removed]",
      "text/plain": [
       "<Figure size 360x504 with 1 Axes>"
      ]
     },
     "metadata": {
      "needs_background": "light"
     },
     "output_type": "display_data"
    }
   ],
   "source": [
    "#bp\n",
    "plt.figure(figsize=(5,7))\n",
    "sns.countplot(data=df,x=\"BP\")\n",
    "plt.title(\"countplot of BP\")\n",
    "plt.xlabel(\"BP\")\n",
    "plt.ylabel(\"frequency\")"
   ]
  },
  {
   "cell_type": "markdown",
   "metadata": {},
   "source": [
    "1. **High Blood Pressure Prevalence**: The **HIGH BP** category has the highest frequency, close to 80. This indicates that a significant portion of the population or dataset has high blood pressure.\n",
    "\n",
    "2. **Low Blood Pressure**: The **LOW BP** category has a frequency around 50, which is also quite substantial but less than the HIGH BP category.\n",
    "\n",
    "3. **Normal Blood Pressure**: The **NORMAL BP** category has the lowest frequency, slightly above 20. This suggests that fewer individuals in the dataset have normal blood pressure levels compared to those with high or low blood pressure.\n",
    "\n",
    "4. **Health Implications**: The high frequency of both HIGH and LOW BP categories indicates potential health concerns within the population. It may be beneficial to focus on interventions to manage and reduce high blood pressure and address the causes of low blood pressure."
   ]
  },
  {
   "cell_type": "code",
   "execution_count": 18,
   "metadata": {},
   "outputs": [
    {
     "data": {
      "image/png": "[encoded data removed]",
      "text/plain": [
       "<Figure size 360x504 with 1 Axes>"
      ]
     },
     "metadata": {
      "needs_background": "light"
     },
     "output_type": "display_data"
    }
   ],
   "source": [
    "#Cholesterol\n",
    "plt.figure(figsize=(5,7))\n",
    "sns.countplot(data=df,x=\"Cholesterol\")\n",
    "plt.title(\"countplot of Cholesterol\")\n",
    "plt.xlabel(\"Cholesterol\")\n",
    "plt.ylabel(\"frequency\")\n",
    "plt.show();"
   ]
  },
  {
   "cell_type": "markdown",
   "metadata": {},
   "source": [
    "1. **High Cholesterol Prevalence**: The **HIGH** cholesterol category has a frequency of 100, indicating that a significant portion of the population or dataset has high cholesterol levels.\n",
    "\n",
    "2. **Normal Cholesterol**: The **NORMAL** cholesterol category has a frequency slightly above 80. This suggests that while many individuals have normal cholesterol levels, high cholesterol is more prevalent in this dataset.\n",
    "\n",
    "3. **Health Implications**: The higher frequency of high cholesterol levels could indicate potential health risks within the population, such as an increased risk of cardiovascular diseases. This data can be crucial for healthcare providers to focus on cholesterol management and preventive measures.\n"
   ]
  },
  {
   "cell_type": "code",
   "execution_count": 19,
   "metadata": {},
   "outputs": [
    {
     "data": {
      "image/png": "[encoded data removed]",
      "text/plain": [
       "<Figure size 360x504 with 1 Axes>"
      ]
     },
     "metadata": {
      "needs_background": "light"
     },
     "output_type": "display_data"
    }
   ],
   "source": [
    "#Na_to_K\n",
    "plt.figure(figsize=(5,7))\n",
    "sns.histplot(data=df,x=\"Na_to_K\")\n",
    "plt.title(\"countplot of Na_to_K\")\n",
    "plt.xlabel(\"Na_to_K\")\n",
    "plt.ylabel(\"frequency\")\n",
    "plt.show();"
   ]
  },
  {
   "cell_type": "markdown",
   "metadata": {},
   "source": [
    "1. **Distribution**: The majority of the data points have lower Na_to_K values, as indicated by the taller bars on the left side of the graph. This suggests that most samples in your dataset have a lower sodium to potassium ratio.\n",
    "2. **Frequency**: The frequency decreases as the Na_to_K value increases. This means higher Na_to_K values are less common in your dataset.\n",
    "3. **Range**: The Na_to_K values are spread across a range, but there is a noticeable concentration in the lower range, indicating a skewed distribution towards lower values.\n",
    "\n"
   ]
  },
  {
   "cell_type": "code",
   "execution_count": 20,
   "metadata": {},
   "outputs": [
    {
     "data": {
      "image/png": "[encoded data removed]",
      "text/plain": [
       "<Figure size 360x504 with 1 Axes>"
      ]
     },
     "metadata": {
      "needs_background": "light"
     },
     "output_type": "display_data"
    }
   ],
   "source": [
    "#Drug\n",
    "plt.figure(figsize=(5,7))\n",
    "sns.histplot(data=df,x=\"Drug\")\n",
    "plt.title(\"countplot of Drug\")\n",
    "plt.xlabel(\"Drug\")\n",
    "plt.ylabel(\"frequency\")\n",
    "plt.show();"
   ]
  },
  {
   "cell_type": "markdown",
   "metadata": {},
   "source": [
    "1. **Drug Popularity**: \n",
    "   - **DrugY** is the most frequently occurring drug in your dataset, with over 80 counts. This suggests it might be the most commonly prescribed or studied drug in your dataset.\n",
    "   - **DrugC** and **DrugX** also have significant frequencies, indicating they are relatively common but less so than DrugY.\n",
    "   - **DrugA** and **DrugB** have the lowest frequencies, suggesting they are less commonly prescribed or studied.\n",
    "\n",
    "2. **Market Demand**: The high frequency of DrugY could indicate a higher market demand or a broader application in treatments. This could be useful for pharmaceutical companies in terms of production planning and marketing strategies.\n",
    "\n",
    "3. **Clinical Focus**: The distribution of these drugs might reflect the focus areas of clinical research or treatment protocols in your dataset. For example, if DrugY is used for a specific condition, it might indicate a higher prevalence or research interest in that condition.\n",
    "\n",
    "4. **Resource Allocation**: Understanding which drugs are most common can help in allocating resources more efficiently. For instance, more resources might be directed towards the production, research, and distribution of DrugY compared to DrugA and DrugB.\n",
    "\n",
    "5. **Regulatory Insights**: The frequency data can also be useful for regulatory purposes. Drugs with higher frequencies might require more stringent monitoring and reporting to ensure safety and efficacy.\n",
    "\n"
   ]
  },
  {
   "cell_type": "markdown",
   "metadata": {},
   "source": [
    "#### BIVARIATE ANALYSIS"
   ]
  },
  {
   "cell_type": "code",
   "execution_count": 21,
   "metadata": {},
   "outputs": [
    {
     "data": {
      "text/plain": [
       "<matplotlib.axes._subplots.AxesSubplot at 0x247d35bc188>"
      ]
     },
     "execution_count": 21,
     "metadata": {},
     "output_type": "execute_result"
    },
    {
     "data": {
      "image/png": "[encoded data removed]",
      "text/plain": [
       "<Figure size 432x288 with 1 Axes>"
      ]
     },
     "metadata": {
      "needs_background": "light"
     },
     "output_type": "display_data"
    }
   ],
   "source": [
    "sns.barplot(data=df,y=\"Age\",x=\"Sex\")"
   ]
  },
  {
   "cell_type": "markdown",
   "metadata": {},
   "source": [
    "1. **Average Age**:\n",
    "   - The average age for females (F) is approximately 40 years.\n",
    "   - The average age for males (M) is slightly higher, around 45 years.\n",
    "\n",
    "2. **Error Bars**:\n",
    "   - Both bars have small error bars at the top, indicating the variability or standard error in the age data. The small size of these error bars suggests that the age data is relatively consistent within each group.\n",
    "\n",
    "3. **Comparison**:\n",
    "   - Males in this dataset tend to be older on average compared to females. This could be relevant for understanding demographic trends or targeting specific age groups in pharmaceutical studies or treatments.\n",
    "\n",
    "4. **Pharmaceutical Relevance**:\n",
    "   - Age is a critical factor in pharmacology as it can influence drug metabolism, efficacy, and safety. Understanding the age distribution can help in tailoring drug dosages and treatment plans for different age groups.\n",
    "   - For instance, older adults might require different formulations or dosages due to changes in metabolism and organ function.\n"
   ]
  },
  {
   "cell_type": "code",
   "execution_count": 22,
   "metadata": {},
   "outputs": [
    {
     "data": {
      "image/png": "[encoded data removed]",
      "text/plain": [
       "<Figure size 432x288 with 1 Axes>"
      ]
     },
     "metadata": {
      "needs_background": "light"
     },
     "output_type": "display_data"
    }
   ],
   "source": [
    "sns.barplot(data=df,y=\"Age\",x=\"BP\");"
   ]
  },
  {
   "cell_type": "markdown",
   "metadata": {},
   "source": [
    "\n",
    "1. **Average Age**:\n",
    "   - Individuals with **HIGH BP** (High Blood Pressure) have an average age of around 45 years.\n",
    "   - Those with **LOW BP** (Low Blood Pressure) have an average age of approximately 35 years.\n",
    "   - Individuals with **NORMAL BP** (Normal Blood Pressure) have an average age of about 40 years.\n",
    "\n",
    "2. **Error Bars**:\n",
    "   - Each bar has an error line indicating the variability or standard deviation within the age data for each category. The error bars are relatively small, suggesting that the age data is consistent within each blood pressure category.\n",
    "\n",
    "3. **Comparison**:\n",
    "   - People with high blood pressure tend to be older on average compared to those with normal or low blood pressure. This could indicate that age is a significant factor in the prevalence of high blood pressure.\n",
    "\n",
    "4. **Pharmaceutical Relevance**:\n",
    "   - Understanding the age distribution across different blood pressure categories can help in tailoring treatment plans. For example, older adults with high blood pressure might require different medication dosages or types compared to younger individuals.\n",
    "   - This data can also be useful for developing age-specific guidelines for managing blood pressure and preventing related health issues."
   ]
  },
  {
   "cell_type": "code",
   "execution_count": 23,
   "metadata": {
    "scrolled": true
   },
   "outputs": [
    {
     "data": {
      "image/png": "[encoded data removed]",
      "text/plain": [
       "<Figure size 432x288 with 1 Axes>"
      ]
     },
     "metadata": {
      "needs_background": "light"
     },
     "output_type": "display_data"
    }
   ],
   "source": [
    "sns.barplot(data=df,y=\"Age\",x=\"Cholesterol\");"
   ]
  },
  {
   "cell_type": "markdown",
   "metadata": {},
   "source": [
    "\n",
    "1. **Average Age**:\n",
    "   - Individuals with **HIGH cholesterol** have an average age of around 45 years.\n",
    "   - Those with **NORMAL cholesterol** have an average age of approximately 40 years.\n",
    "\n",
    "2. **Error Bars**:\n",
    "   - Each bar has an error line indicating the variability or standard deviation within the age data for each category. The error bars are relatively small, suggesting that the age data is consistent within each cholesterol category.\n",
    "\n",
    "3. **Comparison**:\n",
    "   - People with high cholesterol tend to be older on average compared to those with normal cholesterol. This could indicate that age is a significant factor in the prevalence of high cholesterol.\n",
    "\n",
    "4. **Pharmaceutical Relevance**:\n",
    "   - Understanding the age distribution across different cholesterol levels can help in tailoring treatment plans. For example, older adults with high cholesterol might require different medication dosages or types compared to younger individuals.\n",
    "   - This data can also be useful for developing age-specific guidelines for managing cholesterol and preventing related health issues.\n"
   ]
  },
  {
   "cell_type": "code",
   "execution_count": 24,
   "metadata": {},
   "outputs": [],
   "source": [
    "# Correlation between numerical features\n",
    "corr_matrix = df[['Age', \"Na_to_K\"]].corr()"
   ]
  },
  {
   "cell_type": "code",
   "execution_count": 25,
   "metadata": {},
   "outputs": [
    {
     "data": {
      "image/png": "[encoded data removed]",
      "text/plain": [
       "<Figure size 576x432 with 2 Axes>"
      ]
     },
     "metadata": {
      "needs_background": "light"
     },
     "output_type": "display_data"
    }
   ],
   "source": [
    "plt.figure(figsize=(8,6))\n",
    "sns.heatmap(corr_matrix, annot=True, cmap='coolwarm')\n",
    "plt.title('Correlation Matrix')\n",
    "plt.show()"
   ]
  },
  {
   "cell_type": "markdown",
   "metadata": {},
   "source": [
    "\n",
    "1. **Correlation Strength**:\n",
    "   - The correlation between Age and Na_to_K is very weak, with a value of -0.063. This indicates that there is almost no linear relationship between these two variables.\n",
    "\n",
    "2. **Correlation Direction**:\n",
    "   - The negative value suggests a very slight inverse relationship, meaning that as one variable increases, the other tends to decrease slightly. However, given the weak correlation, this relationship is not strong or significant.\n",
    "\n",
    "3. **Pharmaceutical Relevance**:\n",
    "   - Understanding the correlation between Age and Na_to_K can be important in pharmaceutical studies. For instance, if there were a strong correlation, it might suggest that age significantly impacts the sodium to potassium ratio, which could influence drug efficacy and safety.\n",
    "   - Since the correlation is weak, it indicates that age does not have a significant impact on the Na_to_K ratio in your dataset. This could mean that other factors are more important in determining this ratio.\n"
   ]
  },
  {
   "cell_type": "code",
   "execution_count": 26,
   "metadata": {},
   "outputs": [
    {
     "data": {
      "text/plain": [
       "<seaborn.axisgrid.PairGrid at 0x247d359cfc8>"
      ]
     },
     "execution_count": 26,
     "metadata": {},
     "output_type": "execute_result"
    },
    {
     "data": {
      "image/png": "[encoded data removed]",
      "text/plain": [
       "<Figure size 360x360 with 6 Axes>"
      ]
     },
     "metadata": {
      "needs_background": "light"
     },
     "output_type": "display_data"
    }
   ],
   "source": [
    "sns.pairplot(df)"
   ]
  },
  {
   "cell_type": "markdown",
   "metadata": {},
   "source": [
    "\n",
    "1. **Age Distribution**:\n",
    "   - The histogram for 'Age' (top left) shows that the ages in your dataset range from approximately 20 to 70 years. The distribution appears to be fairly uniform, with no significant peaks or valleys.\n",
    "\n",
    "2. **Na_to_K Distribution**:\n",
    "   - The histogram for 'Na_to_K' (bottom right) indicates that the sodium to potassium ratio values range from about 10 to 40. The distribution is skewed towards the lower end, suggesting that lower Na_to_K values are more common in your dataset.\n",
    "\n",
    "3. **Scatter Plots**:\n",
    "   - Both scatter plots (top right and bottom left) show the relationship between 'Age' and 'Na_to_K'. The points are widely dispersed, indicating no strong correlation between these two variables. This aligns with the weak negative correlation observed in the previous heatmap.\n",
    "\n",
    "4. **Pharmaceutical Relevance**:\n",
    "   - **Age Distribution**: Understanding the age distribution helps in tailoring pharmaceutical treatments and dosages. For example, older adults might require different formulations or dosages due to changes in metabolism and organ function.\n",
    "   - **Na_to_K Distribution**: The Na_to_K ratio is crucial for evaluating the efficacy and safety of medications, especially those affecting electrolyte balance. A skew towards lower values might indicate a need for monitoring and adjusting treatments to maintain optimal sodium and potassium levels.\n",
    "   - **Correlation Analysis**: The lack of a strong correlation between age and Na_to_K suggests that other factors might be more significant in influencing the sodium to potassium ratio. This insight can guide further research to identify those factors.\n"
   ]
  },
  {
   "cell_type": "code",
   "execution_count": 27,
   "metadata": {},
   "outputs": [
    {
     "data": {
      "image/png": "[encoded data removed]",
      "text/plain": [
       "<Figure size 432x288 with 1 Axes>"
      ]
     },
     "metadata": {
      "needs_background": "light"
     },
     "output_type": "display_data"
    }
   ],
   "source": [
    "sns.barplot(data=df,y=\"Age\",x=\"Drug\");"
   ]
  },
  {
   "cell_type": "markdown",
   "metadata": {},
   "source": [
    "The bar graph you provided compares the average ages of users for five different drugs: DrugY, drugC, drugX, drugA, and drugB. Here are some insights based on the graph:\n",
    "\n",
    "1. **Average Age**:\n",
    "   - **DrugY**: Users of DrugY have the highest average age, around 55 years.\n",
    "   - **drugC**: The average age of users is approximately 50 years.\n",
    "   - **drugX**: Users have an average age of about 45 years.\n",
    "   - **drugA**: The average age of users is around 40 years.\n",
    "   - **drugB**: Users of drugB have the lowest average age, approximately 35 years.\n",
    "\n",
    "2. **Error Bars**:\n",
    "   - Each bar has an error bar indicating the variability or standard deviation of the age data. The error bars are relatively small, suggesting that the age data is consistent within each drug category.\n",
    "\n",
    "3. **Comparison**:\n",
    "   - There is a noticeable trend where the average age decreases from DrugY to drugB. This could indicate that DrugY is more commonly used by older individuals, while drugB is more popular among younger users.\n",
    "\n",
    "4. **Pharmaceutical Relevance**:\n",
    "   - **Age-Specific Treatments**: Understanding the age distribution of drug users can help in tailoring pharmaceutical treatments. For example, older adults might require different dosages or formulations due to changes in metabolism and organ function.\n",
    "   - **Market Segmentation**: This data can be useful for market segmentation, helping pharmaceutical companies target their products more effectively based on the age demographics of their users.\n",
    "   - **Clinical Research**: Insights into the age distribution can guide clinical research, ensuring that studies include appropriate age groups to evaluate the efficacy and safety of drugs across different age ranges.\n"
   ]
  },
  {
   "cell_type": "code",
   "execution_count": 28,
   "metadata": {},
   "outputs": [
    {
     "name": "stdout",
     "output_type": "stream",
     "text": [
      "<class 'pandas.core.frame.DataFrame'>\n",
      "RangeIndex: 200 entries, 0 to 199\n",
      "Data columns (total 6 columns):\n",
      " #   Column       Non-Null Count  Dtype  \n",
      "---  ------       --------------  -----  \n",
      " 0   Age          200 non-null    int64  \n",
      " 1   Sex          200 non-null    object \n",
      " 2   BP           200 non-null    object \n",
      " 3   Cholesterol  200 non-null    object \n",
      " 4   Na_to_K      200 non-null    float64\n",
      " 5   Drug         200 non-null    object \n",
      "dtypes: float64(1), int64(1), object(4)\n",
      "memory usage: 9.5+ KB\n"
     ]
    }
   ],
   "source": [
    "df.info()"
   ]
  },
  {
   "cell_type": "code",
   "execution_count": 29,
   "metadata": {},
   "outputs": [
    {
     "name": "stdout",
     "output_type": "stream",
     "text": [
      "Sex      F   M\n",
      "BP            \n",
      "HIGH    38  39\n",
      "LOW     28  36\n",
      "NORMAL  30  29\n"
     ]
    }
   ],
   "source": [
    "# Create a contingency table\n",
    "crosstab = pd.crosstab(df['BP'], df['Sex'])\n",
    "\n",
    "# Display the contingency table\n",
    "print(crosstab)"
   ]
  },
  {
   "cell_type": "code",
   "execution_count": 30,
   "metadata": {},
   "outputs": [
    {
     "data": {
      "image/png": "[encoded data removed]",
      "text/plain": [
       "<Figure size 432x288 with 2 Axes>"
      ]
     },
     "metadata": {
      "needs_background": "light"
     },
     "output_type": "display_data"
    }
   ],
   "source": [
    "import seaborn as sns\n",
    "\n",
    "# Generate a crosstab\n",
    "crosstab = pd.crosstab(df['Sex'], df['BP'])\n",
    "\n",
    "# Plot heatmap\n",
    "sns.heatmap(crosstab, annot=True, cmap='coolwarm')\n",
    "plt.title('Heatmap of Two Categorical Variables')\n",
    "plt.show()\n"
   ]
  },
  {
   "cell_type": "markdown",
   "metadata": {},
   "source": [
    "1. **Frequency Distribution**:\n",
    "   - **Females (F)**:\n",
    "     - HIGH BP: 38 occurrences\n",
    "     - LOW BP: 28 occurrences\n",
    "     - NORMAL BP: 30 occurrences\n",
    "   - **Males (M)**:\n",
    "     - HIGH BP: 39 occurrences\n",
    "     - LOW BP: 36 occurrences\n",
    "     - NORMAL BP: 29 occurrences\n",
    "\n",
    "2. **Comparison by Sex**:\n",
    "   - Both males and females have a similar distribution of blood pressure categories, with a slightly higher frequency of HIGH BP in males (39) compared to females (38).\n",
    "   - LOW BP is more common in males (36) than in females (28).\n",
    "   - NORMAL BP occurrences are almost equal between males (29) and females (30).\n",
    "\n",
    "3. **Pharmaceutical Relevance**:\n",
    "   - **Targeted Treatments**: Understanding the distribution of blood pressure categories across sexes can help in developing targeted treatments. For instance, since HIGH BP is slightly more common in males, there might be a need for more focused interventions for this group.\n",
    "   - **Clinical Research**: These insights can guide clinical research to ensure that studies include balanced representation from both sexes, especially when investigating treatments for blood pressure-related conditions.\n",
    "   - **Health Monitoring**: Regular monitoring and preventive measures can be tailored based on the prevalence of different blood pressure categories in males and females, improving overall health outcomes.\n"
   ]
  },
  {
   "cell_type": "code",
   "execution_count": 31,
   "metadata": {},
   "outputs": [
    {
     "name": "stdout",
     "output_type": "stream",
     "text": [
      "Sex           F   M\n",
      "Cholesterol        \n",
      "HIGH         49  54\n",
      "NORMAL       47  50\n"
     ]
    }
   ],
   "source": [
    "# Create a contingency table\n",
    "crosstab = pd.crosstab(df['Cholesterol'], df['Sex'])\n",
    "\n",
    "# Display the contingency table\n",
    "print(crosstab)"
   ]
  },
  {
   "cell_type": "code",
   "execution_count": 32,
   "metadata": {},
   "outputs": [
    {
     "data": {
      "image/png": "[encoded data removed]",
      "text/plain": [
       "<Figure size 432x288 with 2 Axes>"
      ]
     },
     "metadata": {
      "needs_background": "light"
     },
     "output_type": "display_data"
    }
   ],
   "source": [
    "# Plot heatmap\n",
    "sns.heatmap(crosstab, annot=True, cmap='coolwarm')\n",
    "plt.title('Heatmap of Two Categorical Variables')\n",
    "plt.show()\n"
   ]
  },
  {
   "cell_type": "markdown",
   "metadata": {},
   "source": [
    "1. **Frequency Distribution**:\n",
    "   - **Females (F)**:\n",
    "     - HIGH Cholesterol: 49 occurrences\n",
    "     - NORMAL Cholesterol: 47 occurrences\n",
    "   - **Males (M)**:\n",
    "     - HIGH Cholesterol: 54 occurrences\n",
    "     - NORMAL Cholesterol: 50 occurrences\n",
    "\n",
    "2. **Comparison by Sex**:\n",
    "   - Males have a slightly higher frequency of HIGH cholesterol (54) compared to females (49).\n",
    "   - The frequency of NORMAL cholesterol is also slightly higher in males (50) compared to females (47).\n",
    "\n",
    "3. **Pharmaceutical Relevance**:\n",
    "   - **Targeted Treatments**: Understanding the distribution of cholesterol levels across sexes can help in developing targeted treatments. For instance, since HIGH cholesterol is more common in males, there might be a need for more focused interventions for this group.\n",
    "   - **Clinical Research**: These insights can guide clinical research to ensure that studies include balanced representation from both sexes, especially when investigating treatments for cholesterol-related conditions.\n",
    "   - **Health Monitoring**: Regular monitoring and preventive measures can be tailored based on the prevalence of different cholesterol levels in males and females, improving overall health outcomes.\n"
   ]
  },
  {
   "cell_type": "code",
   "execution_count": 33,
   "metadata": {},
   "outputs": [
    {
     "data": {
      "image/png": "[encoded data removed]",
      "text/plain": [
       "<Figure size 576x432 with 1 Axes>"
      ]
     },
     "metadata": {
      "needs_background": "light"
     },
     "output_type": "display_data"
    }
   ],
   "source": [
    "#4. Boxplots to Analyze Distribution by Sex:\n",
    "# Cholesterol Levels by Sex\n",
    "plt.figure(figsize=(8,6))\n",
    "sns.barplot(x='Sex', y=\"Na_to_K\", data=df)\n",
    "plt.title('na_k Levels by Sex')\n",
    "plt.xlabel('Sex')\n",
    "plt.ylabel(\"Na_to_K\")\n",
    "plt.show()"
   ]
  },
  {
   "cell_type": "markdown",
   "metadata": {},
   "source": [
    "1. **Average Na_to_K Levels**:\n",
    "   - **Females (F)**: The average Na_to_K level for females is around 10.\n",
    "   - **Males (M)**: The average Na_to_K level for males is slightly higher, around 12.\n",
    "\n",
    "2. **Error Bars**:\n",
    "   - Both bars have error lines at the top, indicating the variability or standard error in the measurements. The error bars are relatively small, suggesting that the data is consistent within each sex category.\n",
    "\n",
    "3. **Comparison by Sex**:\n",
    "   - Males tend to have higher Na_to_K levels compared to females. This could indicate a difference in sodium and potassium balance between the sexes, which might be relevant for certain medical conditions or treatments.\n",
    "\n",
    "4. **Pharmaceutical Relevance**:\n",
    "   - **Targeted Treatments**: Understanding the differences in Na_to_K levels between sexes can help in developing targeted treatments. For instance, medications that affect electrolyte balance might need to be adjusted based on the patient's sex.\n",
    "   - **Clinical Research**: These insights can guide clinical research to ensure that studies include balanced representation from both sexes, especially when investigating treatments that impact sodium and potassium levels.\n",
    "   - **Health Monitoring**: Regular monitoring and preventive measures can be tailored based on the observed differences in Na_to_K levels, improving overall health outcomes.\n"
   ]
  },
  {
   "cell_type": "code",
   "execution_count": 34,
   "metadata": {},
   "outputs": [
    {
     "name": "stdout",
     "output_type": "stream",
     "text": [
      "Sex     F   M\n",
      "Drug         \n",
      "DrugY  47  44\n",
      "drugA   9  14\n",
      "drugB   6  10\n",
      "drugC   7   9\n",
      "drugX  27  27\n"
     ]
    }
   ],
   "source": [
    "# Create a contingency table\n",
    "crosstab = pd.crosstab(df['Drug'], df['Sex'])\n",
    "\n",
    "# Display the contingency table\n",
    "print(crosstab)"
   ]
  },
  {
   "cell_type": "code",
   "execution_count": 35,
   "metadata": {},
   "outputs": [
    {
     "data": {
      "image/png": "[encoded data removed]",
      "text/plain": [
       "<Figure size 432x288 with 2 Axes>"
      ]
     },
     "metadata": {
      "needs_background": "light"
     },
     "output_type": "display_data"
    }
   ],
   "source": [
    "# Plot heatmap\n",
    "sns.heatmap(crosstab, annot=True, cmap='coolwarm')\n",
    "plt.title('Heatmap of Two Categorical Variables')\n",
    "plt.show()"
   ]
  },
  {
   "cell_type": "markdown",
   "metadata": {},
   "source": [
    "1. **Frequency Distribution**:\n",
    "   - **Females (F)**:\n",
    "     - drugY: 47 occurrences\n",
    "     - drugA: 9 occurrences\n",
    "     - drugB: 6 occurrences\n",
    "     - drugX: 27 occurrences\n",
    "   - **Males (M)**:\n",
    "     - drugY: 44 occurrences\n",
    "     - drugA: 14 occurrences\n",
    "     - drugB: 10 occurrences\n",
    "     - drugX: 27 occurrences\n",
    "\n",
    "2. **Comparison by Sex**:\n",
    "   - **DrugY** is the most frequently occurring drug for both females and males, with slightly higher occurrences in females (47) compared to males (44).\n",
    "   - **DrugX** has the same frequency for both sexes (27).\n",
    "   - **DrugA** and **DrugB** have higher frequencies in males (14 and 10, respectively) compared to females (9 and 6, respectively).\n",
    "\n",
    "3. **Pharmaceutical Relevance**:\n",
    "   - **Targeted Treatments**: Understanding the distribution of drug usage across sexes can help in developing targeted treatments. For instance, since drugY is the most common for both sexes, it might be a key focus for further research and development.\n",
    "   - **Clinical Research**: These insights can guide clinical research to ensure that studies include balanced representation from both sexes, especially when investigating the efficacy and safety of these drugs.\n",
    "   - **Health Monitoring**: Regular monitoring and preventive measures can be tailored based on the observed differences in drug usage, improving overall health outcomes."
   ]
  },
  {
   "cell_type": "code",
   "execution_count": 36,
   "metadata": {},
   "outputs": [
    {
     "name": "stdout",
     "output_type": "stream",
     "text": [
      "Cholesterol  HIGH  NORMAL\n",
      "BP                       \n",
      "HIGH           35      42\n",
      "LOW            31      33\n",
      "NORMAL         37      22\n"
     ]
    }
   ],
   "source": [
    "# Create a contingency table\n",
    "crosstab = pd.crosstab(df['BP'], df['Cholesterol'])\n",
    "\n",
    "# Display the contingency table\n",
    "print(crosstab)"
   ]
  },
  {
   "cell_type": "code",
   "execution_count": 37,
   "metadata": {},
   "outputs": [
    {
     "data": {
      "image/png": "[encoded data removed]",
      "text/plain": [
       "<Figure size 432x288 with 2 Axes>"
      ]
     },
     "metadata": {
      "needs_background": "light"
     },
     "output_type": "display_data"
    }
   ],
   "source": [
    "# Plot heatmap\n",
    "sns.heatmap(crosstab, annot=True, cmap='coolwarm')\n",
    "plt.title('Heatmap of Two Categorical Variables')\n",
    "plt.show()"
   ]
  },
  {
   "cell_type": "markdown",
   "metadata": {},
   "source": [
    "1. **Frequency Distribution**:\n",
    "   - **HIGH BP**:\n",
    "     - HIGH Cholesterol: 35 occurrences\n",
    "     - NORMAL Cholesterol: 31 occurrences\n",
    "   - **NORMAL BP**:\n",
    "     - HIGH Cholesterol: 42 occurrences\n",
    "     - NORMAL Cholesterol: 22 occurrences\n",
    "\n",
    "2. **Comparison by Blood Pressure**:\n",
    "   - Individuals with **HIGH BP** are more likely to have HIGH cholesterol (35) compared to NORMAL cholesterol (31).\n",
    "   - For those with **NORMAL BP**, HIGH cholesterol is more common (42) compared to NORMAL cholesterol (22).\n",
    "\n",
    "3. **Pharmaceutical Relevance**:\n",
    "   - **Targeted Treatments**: Understanding the distribution of cholesterol levels across different blood pressure categories can help in developing targeted treatments. For instance, since HIGH cholesterol is more common in both HIGH and NORMAL BP categories, there might be a need for more focused interventions for managing cholesterol levels.\n",
    "   - **Clinical Research**: These insights can guide clinical research to ensure that studies include balanced representation from both blood pressure and cholesterol categories, especially when investigating treatments for cardiovascular conditions.\n",
    "   - **Health Monitoring**: Regular monitoring and preventive measures can be tailored based on the observed differences in cholesterol levels across different blood pressure categories, improving overall health outcomes.\n",
    "\n"
   ]
  },
  {
   "cell_type": "code",
   "execution_count": 38,
   "metadata": {},
   "outputs": [
    {
     "data": {
      "text/plain": [
       "<matplotlib.axes._subplots.AxesSubplot at 0x247d370a408>"
      ]
     },
     "execution_count": 38,
     "metadata": {},
     "output_type": "execute_result"
    },
    {
     "data": {
      "image/png": "[encoded data removed]",
      "text/plain": [
       "<Figure size 576x432 with 1 Axes>"
      ]
     },
     "metadata": {
      "needs_background": "light"
     },
     "output_type": "display_data"
    }
   ],
   "source": [
    "plt.figure(figsize=(8,6))\n",
    "sns.barplot(x='BP', y=\"Na_to_K\", data=df)"
   ]
  },
  {
   "cell_type": "markdown",
   "metadata": {},
   "source": [
    "1. **Average Na_to_K Levels**:\n",
    "   - **HIGH BP**: The average Na_to_K level is approximately 15.\n",
    "   - **LOW BP**: The average Na_to_K level is also around 15.\n",
    "   - **NORMAL BP**: The average Na_to_K level is slightly lower, just above 12.5.\n",
    "\n",
    "2. **Error Bars**:\n",
    "   - Each bar has an error line at the top, indicating the variability or standard error in the measurements. The error bars are relatively small, suggesting that the data is consistent within each blood pressure category.\n",
    "\n",
    "3. **Comparison by Blood Pressure**:\n",
    "   - Both HIGH BP and LOW BP categories have similar Na_to_K levels, which are higher than those in the NORMAL BP category. This could indicate that individuals with abnormal blood pressure (either high or low) tend to have higher sodium to potassium ratios compared to those with normal blood pressure.\n",
    "\n",
    "4. **Pharmaceutical Relevance**:\n",
    "   - **Targeted Treatments**: Understanding the differences in Na_to_K levels across blood pressure categories can help in developing targeted treatments. For instance, medications that affect electrolyte balance might need to be adjusted based on the patient's blood pressure category.\n",
    "   - **Clinical Research**: These insights can guide clinical research to ensure that studies include balanced representation from all blood pressure categories, especially when investigating treatments that impact sodium and potassium levels.\n",
    "   - **Health Monitoring**: Regular monitoring and preventive measures can be tailored based on the observed differences in Na_to_K levels, improving overall health outcomes.\n"
   ]
  },
  {
   "cell_type": "code",
   "execution_count": 39,
   "metadata": {},
   "outputs": [
    {
     "name": "stdout",
     "output_type": "stream",
     "text": [
      "BP     HIGH  LOW  NORMAL\n",
      "Drug                    \n",
      "DrugY    38   30      23\n",
      "drugA    23    0       0\n",
      "drugB    16    0       0\n",
      "drugC     0   16       0\n",
      "drugX     0   18      36\n"
     ]
    }
   ],
   "source": [
    "# Create a contingency table\n",
    "crosstab = pd.crosstab(df['Drug'], df['BP'])\n",
    "\n",
    "# Display the contingency table\n",
    "print(crosstab)"
   ]
  },
  {
   "cell_type": "code",
   "execution_count": 40,
   "metadata": {},
   "outputs": [
    {
     "data": {
      "image/png": "[encoded data removed]",
      "text/plain": [
       "<Figure size 432x288 with 2 Axes>"
      ]
     },
     "metadata": {
      "needs_background": "light"
     },
     "output_type": "display_data"
    }
   ],
   "source": [
    "# Plot heatmap\n",
    "sns.heatmap(crosstab, annot=True, cmap='coolwarm')\n",
    "plt.title('Heatmap of Two Categorical Variables')\n",
    "plt.show()"
   ]
  },
  {
   "cell_type": "markdown",
   "metadata": {},
   "source": [
    "1. **DrugY**:\n",
    "   - **Most prescribed for high BP**: It is prescribed 38 times, which is the highest for any drug across all blood pressure levels.\n",
    "   - **Common for low and normal BP as well**: DrugY is also used for patients with low BP (30) and normal BP (23). This suggests that DrugY might be a versatile option, suitable for different BP conditions.\n",
    "\n",
    "2. **DrugA**:\n",
    "   - **Popular for high BP**: It is prescribed 23 times for patients with high BP, but it isn't used for low or normal BP. This indicates that DrugA might be specifically targeted toward managing high BP cases.\n",
    "\n",
    "3. **DrugB**:\n",
    "   - **Exclusively for high BP**: DrugB is used 16 times for patients with high BP but is not prescribed for any other BP categories, making it highly specific to high BP treatment.\n",
    "\n",
    "4. **DrugC**:\n",
    "   - **Exclusively for low BP**: It is used 16 times for low BP but not for other BP categories, showing that DrugC is focused on treating low BP conditions.\n",
    "\n",
    "5. **DrugX**:\n",
    "   - **Most prescribed for normal BP**: DrugX is used 36 times for normal BP, the highest for any drug in the normal BP category. It also shows some use in patients with low BP (18), but none for high BP.\n",
    "\n",
    "### Key Insights:\n",
    "- **DrugY** is the most versatile drug, being prescribed for high, low, and normal BP.\n",
    "- **DrugA and DrugB** are both targeted specifically toward high BP, with DrugB being exclusively used for high BP patients.\n",
    "- **DrugC** is the most targeted for low BP patients, showing specialization in low BP treatment.\n",
    "- **DrugX** is mainly used for normal BP but also has applications in low BP cases, making it useful for these categories but not for high BP."
   ]
  },
  {
   "cell_type": "code",
   "execution_count": 41,
   "metadata": {},
   "outputs": [
    {
     "name": "stdout",
     "output_type": "stream",
     "text": [
      "<class 'pandas.core.frame.DataFrame'>\n",
      "RangeIndex: 200 entries, 0 to 199\n",
      "Data columns (total 6 columns):\n",
      " #   Column       Non-Null Count  Dtype  \n",
      "---  ------       --------------  -----  \n",
      " 0   Age          200 non-null    int64  \n",
      " 1   Sex          200 non-null    object \n",
      " 2   BP           200 non-null    object \n",
      " 3   Cholesterol  200 non-null    object \n",
      " 4   Na_to_K      200 non-null    float64\n",
      " 5   Drug         200 non-null    object \n",
      "dtypes: float64(1), int64(1), object(4)\n",
      "memory usage: 9.5+ KB\n"
     ]
    }
   ],
   "source": [
    "df.info()"
   ]
  },
  {
   "cell_type": "code",
   "execution_count": 42,
   "metadata": {},
   "outputs": [
    {
     "data": {
      "text/plain": [
       "<matplotlib.axes._subplots.AxesSubplot at 0x247d3362b48>"
      ]
     },
     "execution_count": 42,
     "metadata": {},
     "output_type": "execute_result"
    },
    {
     "data": {
      "image/png": "[encoded data removed]",
      "text/plain": [
       "<Figure size 576x432 with 1 Axes>"
      ]
     },
     "metadata": {
      "needs_background": "light"
     },
     "output_type": "display_data"
    }
   ],
   "source": [
    "plt.figure(figsize=(8,6))\n",
    "sns.barplot(x='Cholesterol', y=\"Na_to_K\", data=df)"
   ]
  },
  {
   "cell_type": "markdown",
   "metadata": {},
   "source": [
    "### Insights:\n",
    "\n",
    "1. **Similar Health Impact**:\n",
    "   - The two bars, representing cholesterol levels and blood pressure, are almost equal in height, indicating that both conditions are similarly prevalent or impactful among the patients being studied.\n",
    "   - This suggests that the treatment focus in the pharmacy might need to address both high cholesterol and high blood pressure with equal priority.\n",
    "\n",
    "2. **Stable Treatment Results**:\n",
    "   - The small error bars for both cholesterol and BP indicate that the outcomes for patients are consistent, with minimal variation in the data. This could imply that current treatments for both conditions are effective and result in predictable patient responses.\n",
    "   \n",
    "3. **Balanced Medication Demand**:\n",
    "   - Since the values are nearly equal, medications targeting cholesterol management (e.g., statins) and blood pressure control (e.g., antihypertensives) might be in similar demand in the pharmacy.\n",
    "   - Stocking medications for both cholesterol and BP management should be balanced as both conditions seem to affect patients equally.\n",
    "\n",
    "4. **Potential for Combined Treatment**:\n",
    "   - If the patient population frequently experiences both high cholesterol and high BP, this chart suggests that combination treatments (e.g., single pills addressing both conditions) could be a valuable option.\n",
    "   \n",
    "5. **Focus on Prevention**:\n",
    "   - Since the prevalence of cholesterol and BP issues seems comparable, preventative care through lifestyle management and early interventions (e.g., patient education on diet and exercise) could be crucial in preventing the rise of either condition.\n",
    "\n"
   ]
  },
  {
   "cell_type": "code",
   "execution_count": 43,
   "metadata": {},
   "outputs": [
    {
     "data": {
      "image/png": "[encoded data removed]",
      "text/plain": [
       "<Figure size 432x288 with 2 Axes>"
      ]
     },
     "metadata": {
      "needs_background": "light"
     },
     "output_type": "display_data"
    }
   ],
   "source": [
    "CROSSTAB=pd.crosstab(df[\"Drug\"],df[\"Cholesterol\"])\n",
    "sns.heatmap(CROSSTAB,annot=True,cmap=\"coolwarm\")\n",
    "plt.title('Heatmap of Two Categorical Variables')\n",
    "plt.show()"
   ]
  },
  {
   "cell_type": "markdown",
   "metadata": {},
   "source": [
    "1. **DrugY**:\n",
    "   - HIGH cholesterol: 47 occurrences\n",
    "   - NORMAL cholesterol: 44 occurrences\n",
    "\n",
    "2. **DrugA**:\n",
    "   - HIGH cholesterol: 12 occurrences\n",
    "   - NORMAL cholesterol: 11 occurrences\n",
    "\n",
    "3. **DrugB**:\n",
    "   - HIGH cholesterol: 16 occurrences\n",
    "   - NORMAL cholesterol: 0 occurrences\n",
    "\n",
    "4. **DrugC**:\n",
    "   - HIGH cholesterol: 8 occurrences\n",
    "   - NORMAL cholesterol: 0 occurrences\n",
    "\n",
    "5. **DrugX**:\n",
    "   - HIGH cholesterol: 20 occurrences\n",
    "   - NORMAL cholesterol: 34 occurrences\n",
    "\n",
    "### Observations:\n",
    "- **DrugY** is the most frequently occurring drug for both HIGH and NORMAL cholesterol levels.\n",
    "- **DrugB** and **DrugC** have no occurrences with NORMAL cholesterol levels.\n",
    "- **DrugX** has a higher occurrence with NORMAL cholesterol levels compared to HIGH cholesterol levels.\n"
   ]
  },
  {
   "cell_type": "code",
   "execution_count": 44,
   "metadata": {},
   "outputs": [
    {
     "data": {
      "text/plain": [
       "<matplotlib.axes._subplots.AxesSubplot at 0x247d35de808>"
      ]
     },
     "execution_count": 44,
     "metadata": {},
     "output_type": "execute_result"
    },
    {
     "data": {
      "image/png": "[encoded data removed]",
      "text/plain": [
       "<Figure size 576x432 with 1 Axes>"
      ]
     },
     "metadata": {
      "needs_background": "light"
     },
     "output_type": "display_data"
    }
   ],
   "source": [
    "\n",
    "plt.figure(figsize=(8,6))\n",
    "sns.barplot(x='Drug', y=\"Na_to_K\", data=df)"
   ]
  },
  {
   "cell_type": "markdown",
   "metadata": {},
   "source": [
    "1. **DrugY**:\n",
    "   - Highest Na+K+ level, slightly above 20.\n",
    "\n",
    "2. **drugC**:\n",
    "   - Na+K+ level around 15.\n",
    "\n",
    "3. **drugX**:\n",
    "   - Na+K+ level also around 15.\n",
    "\n",
    "4. **drugA**:\n",
    "   - Na+K+ level just above 10.\n",
    "\n",
    "5. **drugB**:\n",
    "   - Na+K+ level just below 10.\n",
    "\n",
    "### Observations:\n",
    "- **DrugY** has the highest impact on Na+K+ levels.\n",
    "- **drugC** and **drugX** have similar effects, both around the 15 mark.\n",
    "- **drugA** and **drugB** have lower impacts compared to the other drugs.\n"
   ]
  },
  {
   "cell_type": "markdown",
   "metadata": {},
   "source": [
    "### multivariate analysis"
   ]
  },
  {
   "cell_type": "code",
   "execution_count": 45,
   "metadata": {},
   "outputs": [
    {
     "data": {
      "image/png": "[encoded data removed]",
      "text/plain": [
       "<Figure size 576x432 with 1 Axes>"
      ]
     },
     "metadata": {
      "needs_background": "light"
     },
     "output_type": "display_data"
    }
   ],
   "source": [
    "#. Boxplots to Analyze Distribution by Sex:\n",
    "# Cholesterol Levels by Sex\n",
    "plt.figure(figsize=(8,6))\n",
    "sns.barplot(x='Sex', y=\"Na_to_K\", data=df,hue=\"BP\")\n",
    "plt.title('na_k Levels by Sex')\n",
    "plt.xlabel('Sex')\n",
    "plt.ylabel(\"Na_to_K\")\n",
    "plt.show()"
   ]
  },
  {
   "cell_type": "markdown",
   "metadata": {},
   "source": [
    "1. **BP Levels**:\n",
    "   - Females (F): Na+K+ level is around 17.5.\n",
    "   - Males (M): Na+K+ level is slightly lower, around 15.\n",
    "\n",
    "2. **HIGH Levels**:\n",
    "   - Females (F): Na+K+ level is around 15.\n",
    "   - Males (M): Na+K+ level is slightly higher, around 17.5.\n",
    "\n",
    "3. **LOW Levels**:\n",
    "   - Females (F): Na+K+ level is around 12.5.\n",
    "   - Males (M): Na+K+ level is slightly lower, around 10.\n",
    "\n",
    "4. **NORMAL Levels**:\n",
    "   - Females (F): Na+K+ level is around 10.\n",
    "   - Males (M): Na+K+ level is slightly higher, around 12.5.\n",
    "\n",
    "### Observations:\n",
    "- **Females** tend to have higher Na+K+ levels in BP and LOW conditions compared to males.\n",
    "- **Males** tend to have higher Na+K+ levels in HIGH and NORMAL conditions compared to females."
   ]
  },
  {
   "cell_type": "code",
   "execution_count": 46,
   "metadata": {},
   "outputs": [
    {
     "data": {
      "image/png": "[encoded data removed]",
      "text/plain": [
       "<Figure size 576x432 with 1 Axes>"
      ]
     },
     "metadata": {
      "needs_background": "light"
     },
     "output_type": "display_data"
    }
   ],
   "source": [
    "# Cholesterol Levels by Sex\n",
    "plt.figure(figsize=(8,6))\n",
    "sns.barplot(x='Drug', y=\"Na_to_K\", data=df,hue=\"BP\")\n",
    "plt.title('na_k Levels by Drug')\n",
    "plt.xlabel('Drug')\n",
    "plt.ylabel(\"Na_to_K\")\n",
    "plt.show()"
   ]
  },
  {
   "cell_type": "markdown",
   "metadata": {},
   "source": [
    "1. **DrugY**:\n",
    "   - BP: Na_to_K level is around 20.\n",
    "   - HIGH: Na_to_K level is around 15.\n",
    "   - LOW: Na_to_K level is around 10.\n",
    "   - NORMAL: Na_to_K level is around 5.\n",
    "\n",
    "2. **drugC**:\n",
    "   - BP: Na_to_K level is around 15.\n",
    "   - HIGH: Na_to_K level is around 10.\n",
    "   - LOW: Na_to_K level is around 5.\n",
    "   - NORMAL: Na_to_K level is around 0.\n",
    "\n",
    "3. **drugX**:\n",
    "   - BP: Na_to_K level is around 15.\n",
    "   - HIGH: Na_to_K level is around 10.\n",
    "   - LOW: Na_to_K level is around 5.\n",
    "   - NORMAL: Na_to_K level is around 0.\n",
    "\n",
    "4. **drugA**:\n",
    "   - BP: Na_to_K level is around 10.\n",
    "   - HIGH: Na_to_K level is around 5.\n",
    "   - LOW: Na_to_K level is around 0.\n",
    "   - NORMAL: Na_to_K level is around 0.\n",
    "\n",
    "5. **drugB**:\n",
    "   - BP: Na_to_K level is around 10.\n",
    "   - HIGH: Na_to_K level is around 5.\n",
    "   - LOW: Na_to_K level is around 0.\n",
    "   - NORMAL: Na_to_K level is around 0.\n",
    "\n",
    "### Observations:\n",
    "- **DrugY** has the highest Na_to_K levels across all blood pressure categories.\n",
    "- **drugC** and **drugX** show similar patterns, with Na_to_K levels decreasing from BP to NORMAL.\n",
    "- **drugA** and **drugB** have the lowest Na_to_K levels, especially in the LOW and NORMAL categories.\n"
   ]
  },
  {
   "cell_type": "code",
   "execution_count": 47,
   "metadata": {},
   "outputs": [
    {
     "data": {
      "image/png": "[encoded data removed]",
      "text/plain": [
       "<Figure size 576x432 with 1 Axes>"
      ]
     },
     "metadata": {
      "needs_background": "light"
     },
     "output_type": "display_data"
    }
   ],
   "source": [
    "\n",
    "plt.figure(figsize=(8,6))\n",
    "sns.barplot(x='Drug', y=\"Na_to_K\", data=df,hue=\"Cholesterol\")\n",
    "plt.title('na_k Levels by Sex')\n",
    "plt.xlabel('Drug')\n",
    "plt.ylabel(\"Na_to_K\")\n",
    "plt.show()"
   ]
  },
  {
   "cell_type": "markdown",
   "metadata": {},
   "source": [
    "1. **DrugY**:\n",
    "   - **Females (F)**:\n",
    "     - HIGH cholesterol: Na_to_K level is around 20.\n",
    "     - NORMAL cholesterol: Na_to_K level is around 15.\n",
    "   - **Males (M)**:\n",
    "     - HIGH cholesterol: Na_to_K level is around 15.\n",
    "     - NORMAL cholesterol: Na_to_K level is around 10.\n",
    "\n",
    "2. **drugC**:\n",
    "   - **Females (F)**:\n",
    "     - HIGH cholesterol: Na_to_K level is around 15.\n",
    "     - NORMAL cholesterol: Na_to_K level is around 10.\n",
    "   - **Males (M)**:\n",
    "     - HIGH cholesterol: Na_to_K level is around 10.\n",
    "     - NORMAL cholesterol: Na_to_K level is around 5.\n",
    "\n",
    "3. **drugX**:\n",
    "   - **Females (F)**:\n",
    "     - HIGH cholesterol: Na_to_K level is around 15.\n",
    "     - NORMAL cholesterol: Na_to_K level is around 10.\n",
    "   - **Males (M)**:\n",
    "     - HIGH cholesterol: Na_to_K level is around 10.\n",
    "     - NORMAL cholesterol: Na_to_K level is around 5.\n",
    "\n",
    "4. **drugA**:\n",
    "   - **Females (F)**:\n",
    "     - HIGH cholesterol: Na_to_K level is around 10.\n",
    "     - NORMAL cholesterol: Na_to_K level is around 5.\n",
    "   - **Males (M)**:\n",
    "     - HIGH cholesterol: Na_to_K level is around 5.\n",
    "     - NORMAL cholesterol: Na_to_K level is around 0.\n",
    "\n",
    "5. **drugB**:\n",
    "   - **Females (F)**:\n",
    "     - HIGH cholesterol: Na_to_K level is around 10.\n",
    "     - NORMAL cholesterol: Na_to_K level is around 5.\n",
    "   - **Males (M)**:\n",
    "     - HIGH cholesterol: Na_to_K level is around 5.\n",
    "     - NORMAL cholesterol: Na_to_K level is around 0.\n",
    "\n",
    "### Observations:\n",
    "- **Females** generally have higher Na_to_K levels compared to males across most drugs and cholesterol levels.\n",
    "- **DrugY** shows the highest Na_to_K levels for both sexes and cholesterol levels.\n",
    "- **drugA** and **drugB** have the lowest Na_to_K levels, especially in males with NORMAL cholesterol.\n"
   ]
  },
  {
   "cell_type": "code",
   "execution_count": 48,
   "metadata": {},
   "outputs": [
    {
     "data": {
      "image/png": "[encoded data removed]",
      "text/plain": [
       "<Figure size 576x432 with 1 Axes>"
      ]
     },
     "metadata": {
      "needs_background": "light"
     },
     "output_type": "display_data"
    }
   ],
   "source": [
    "plt.figure(figsize=(8,6))\n",
    "sns.barplot(x='Sex', y=\"Age\", data=df,hue=\"Cholesterol\")\n",
    "plt.title('Age Levels by Sex')\n",
    "plt.xlabel('Sex')\n",
    "plt.ylabel(\"Age\")\n",
    "plt.show()"
   ]
  },
  {
   "cell_type": "markdown",
   "metadata": {},
   "source": [
    "1. **Females (F)**:\n",
    "   - **HIGH cholesterol**: Average age is around 50.\n",
    "   - **NORMAL cholesterol**: Average age is around 40.\n",
    "\n",
    "2. **Males (M)**:\n",
    "   - **HIGH cholesterol**: Average age is around 40.\n",
    "   - **NORMAL cholesterol**: Average age is around 30.\n",
    "\n",
    "### Observations:\n",
    "- **Females** with high cholesterol tend to be older on average compared to males with high cholesterol.\n",
    "- **Males** with normal cholesterol are younger on average compared to females with normal cholesterol.\n"
   ]
  },
  {
   "cell_type": "code",
   "execution_count": 49,
   "metadata": {},
   "outputs": [
    {
     "data": {
      "image/png": "[encoded data removed]",
      "text/plain": [
       "<Figure size 576x432 with 1 Axes>"
      ]
     },
     "metadata": {
      "needs_background": "light"
     },
     "output_type": "display_data"
    }
   ],
   "source": [
    "plt.figure(figsize=(8,6))\n",
    "sns.barplot(x='Drug', y=\"Age\", data=df,hue=\"Cholesterol\")\n",
    "plt.title('Age Levels by Drug')\n",
    "plt.xlabel('Drug')\n",
    "plt.ylabel(\"Age\")\n",
    "plt.show()"
   ]
  },
  {
   "cell_type": "markdown",
   "metadata": {},
   "source": [
    "1. **DrugY**:\n",
    "   - **HIGH cholesterol**: Average age is around 60.\n",
    "   - **NORMAL cholesterol**: Average age is around 50.\n",
    "\n",
    "2. **drugC**:\n",
    "   - **HIGH cholesterol**: Average age is around 50.\n",
    "   - **NORMAL cholesterol**: Average age is around 40.\n",
    "\n",
    "3. **drugX**:\n",
    "   - **HIGH cholesterol**: Average age is around 50.\n",
    "   - **NORMAL cholesterol**: Average age is around 40.\n",
    "\n",
    "4. **drugA**:\n",
    "   - **HIGH cholesterol**: Average age is around 40.\n",
    "   - **NORMAL cholesterol**: Average age is around 30.\n",
    "\n",
    "5. **drugB**:\n",
    "   - **HIGH cholesterol**: Average age is around 40.\n",
    "   - **NORMAL cholesterol**: Average age is around 30.\n",
    "\n",
    "### Observations:\n",
    "- **DrugY** is associated with the highest average age for both high and normal cholesterol levels.\n",
    "- **drugC** and **drugX** show similar age distributions, with higher average ages for high cholesterol compared to normal cholesterol.\n",
    "- **drugA** and **drugB** have the lowest average ages, especially for normal cholesterol levels."
   ]
  },
  {
   "cell_type": "markdown",
   "metadata": {},
   "source": [
    "#### Data preprocessing"
   ]
  },
  {
   "cell_type": "code",
   "execution_count": 50,
   "metadata": {},
   "outputs": [
    {
     "data": {
      "text/plain": [
       "Age            0\n",
       "Sex            0\n",
       "BP             0\n",
       "Cholesterol    0\n",
       "Na_to_K        0\n",
       "Drug           0\n",
       "dtype: int64"
      ]
     },
     "execution_count": 50,
     "metadata": {},
     "output_type": "execute_result"
    }
   ],
   "source": [
    "df.isnull().sum()"
   ]
  },
  {
   "cell_type": "code",
   "execution_count": 51,
   "metadata": {},
   "outputs": [
    {
     "data": {
      "text/plain": [
       "0"
      ]
     },
     "execution_count": 51,
     "metadata": {},
     "output_type": "execute_result"
    }
   ],
   "source": [
    "df.duplicated().sum()"
   ]
  },
  {
   "cell_type": "code",
   "execution_count": 52,
   "metadata": {},
   "outputs": [],
   "source": [
    "df_num=df.select_dtypes(include=[\"int64\",\"float64\"])"
   ]
  },
  {
   "cell_type": "code",
   "execution_count": 53,
   "metadata": {},
   "outputs": [
    {
     "data": {
      "text/html": [
       "<div>\n",
       "<style scoped>\n",
       "    .dataframe tbody tr th:only-of-type {\n",
       "        vertical-align: middle;\n",
       "    }\n",
       "\n",
       "    .dataframe tbody tr th {\n",
       "        vertical-align: top;\n",
       "    }\n",
       "\n",
       "    .dataframe thead th {\n",
       "        text-align: right;\n",
       "    }\n",
       "</style>\n",
       "<table border=\"1\" class=\"dataframe\">\n",
       "  <thead>\n",
       "    <tr style=\"text-align: right;\">\n",
       "      <th></th>\n",
       "      <th>Age</th>\n",
       "      <th>Na_to_K</th>\n",
       "    </tr>\n",
       "  </thead>\n",
       "  <tbody>\n",
       "    <tr>\n",
       "      <th>0</th>\n",
       "      <td>23</td>\n",
       "      <td>25.355</td>\n",
       "    </tr>\n",
       "    <tr>\n",
       "      <th>1</th>\n",
       "      <td>47</td>\n",
       "      <td>13.093</td>\n",
       "    </tr>\n",
       "    <tr>\n",
       "      <th>2</th>\n",
       "      <td>47</td>\n",
       "      <td>10.114</td>\n",
       "    </tr>\n",
       "    <tr>\n",
       "      <th>3</th>\n",
       "      <td>28</td>\n",
       "      <td>7.798</td>\n",
       "    </tr>\n",
       "    <tr>\n",
       "      <th>4</th>\n",
       "      <td>61</td>\n",
       "      <td>18.043</td>\n",
       "    </tr>\n",
       "    <tr>\n",
       "      <th>...</th>\n",
       "      <td>...</td>\n",
       "      <td>...</td>\n",
       "    </tr>\n",
       "    <tr>\n",
       "      <th>195</th>\n",
       "      <td>56</td>\n",
       "      <td>11.567</td>\n",
       "    </tr>\n",
       "    <tr>\n",
       "      <th>196</th>\n",
       "      <td>16</td>\n",
       "      <td>12.006</td>\n",
       "    </tr>\n",
       "    <tr>\n",
       "      <th>197</th>\n",
       "      <td>52</td>\n",
       "      <td>9.894</td>\n",
       "    </tr>\n",
       "    <tr>\n",
       "      <th>198</th>\n",
       "      <td>23</td>\n",
       "      <td>14.020</td>\n",
       "    </tr>\n",
       "    <tr>\n",
       "      <th>199</th>\n",
       "      <td>40</td>\n",
       "      <td>11.349</td>\n",
       "    </tr>\n",
       "  </tbody>\n",
       "</table>\n",
       "<p>200 rows × 2 columns</p>\n",
       "</div>"
      ],
      "text/plain": [
       "     Age  Na_to_K\n",
       "0     23   25.355\n",
       "1     47   13.093\n",
       "2     47   10.114\n",
       "3     28    7.798\n",
       "4     61   18.043\n",
       "..   ...      ...\n",
       "195   56   11.567\n",
       "196   16   12.006\n",
       "197   52    9.894\n",
       "198   23   14.020\n",
       "199   40   11.349\n",
       "\n",
       "[200 rows x 2 columns]"
      ]
     },
     "execution_count": 53,
     "metadata": {},
     "output_type": "execute_result"
    }
   ],
   "source": [
    "df_num"
   ]
  },
  {
   "cell_type": "code",
   "execution_count": 54,
   "metadata": {},
   "outputs": [
    {
     "data": {
      "text/plain": [
       "<matplotlib.axes._subplots.AxesSubplot at 0x247d4c182c8>"
      ]
     },
     "execution_count": 54,
     "metadata": {},
     "output_type": "execute_result"
    },
    {
     "data": {
      "image/png": "[encoded data removed]",
      "text/plain": [
       "<Figure size 432x288 with 1 Axes>"
      ]
     },
     "metadata": {
      "needs_background": "light"
     },
     "output_type": "display_data"
    }
   ],
   "source": [
    "sns.boxplot(df_num)"
   ]
  },
  {
   "cell_type": "code",
   "execution_count": 55,
   "metadata": {},
   "outputs": [],
   "source": [
    "def remove_outlier(df_num):\n",
    "    Q1 = df_num.quantile(0.25)\n",
    "    Q3 = df_num.quantile(0.75)\n",
    "    IQR = Q3 - Q1\n",
    "    low = Q1 - 1.5 * IQR\n",
    "    upper= Q3 + 1.5 * IQR\n",
    "    return low,upper"
   ]
  },
  {
   "cell_type": "code",
   "execution_count": 56,
   "metadata": {},
   "outputs": [
    {
     "name": "stderr",
     "output_type": "stream",
     "text": [
      "C:\\Users\\hp\\anaconda3\\lib\\site-packages\\ipykernel_launcher.py:3: SettingWithCopyWarning: \n",
      "A value is trying to be set on a copy of a slice from a DataFrame.\n",
      "Try using .loc[row_indexer,col_indexer] = value instead\n",
      "\n",
      "See the caveats in the documentation: https://pandas.pydata.org/pandas-docs/stable/user_guide/indexing.html#returning-a-view-versus-a-copy\n",
      "  This is separate from the ipykernel package so we can avoid doing imports until\n",
      "C:\\Users\\hp\\anaconda3\\lib\\site-packages\\ipykernel_launcher.py:4: SettingWithCopyWarning: \n",
      "A value is trying to be set on a copy of a slice from a DataFrame.\n",
      "Try using .loc[row_indexer,col_indexer] = value instead\n",
      "\n",
      "See the caveats in the documentation: https://pandas.pydata.org/pandas-docs/stable/user_guide/indexing.html#returning-a-view-versus-a-copy\n",
      "  after removing the cwd from sys.path.\n"
     ]
    }
   ],
   "source": [
    "for i in df_num.columns:\n",
    "    lw,hi=remove_outlier(df_num[i])\n",
    "    df_num[i]=np.where(df_num[i]<lw,lw,df_num[i])\n",
    "    df_num[i]=np.where(df_num[i]>hi,hi,df_num[i])"
   ]
  },
  {
   "cell_type": "code",
   "execution_count": 57,
   "metadata": {},
   "outputs": [
    {
     "data": {
      "text/plain": [
       "<matplotlib.axes._subplots.AxesSubplot at 0x247d3a1fd08>"
      ]
     },
     "execution_count": 57,
     "metadata": {},
     "output_type": "execute_result"
    },
    {
     "data": {
      "image/png": "[encoded data removed]",
      "text/plain": [
       "<Figure size 432x288 with 1 Axes>"
      ]
     },
     "metadata": {
      "needs_background": "light"
     },
     "output_type": "display_data"
    }
   ],
   "source": [
    "sns.boxplot(df_num)"
   ]
  },
  {
   "cell_type": "code",
   "execution_count": 58,
   "metadata": {},
   "outputs": [
    {
     "data": {
      "text/html": [
       "<div>\n",
       "<style scoped>\n",
       "    .dataframe tbody tr th:only-of-type {\n",
       "        vertical-align: middle;\n",
       "    }\n",
       "\n",
       "    .dataframe tbody tr th {\n",
       "        vertical-align: top;\n",
       "    }\n",
       "\n",
       "    .dataframe thead th {\n",
       "        text-align: right;\n",
       "    }\n",
       "</style>\n",
       "<table border=\"1\" class=\"dataframe\">\n",
       "  <thead>\n",
       "    <tr style=\"text-align: right;\">\n",
       "      <th></th>\n",
       "      <th>Age</th>\n",
       "      <th>Na_to_K</th>\n",
       "    </tr>\n",
       "  </thead>\n",
       "  <tbody>\n",
       "    <tr>\n",
       "      <th>0</th>\n",
       "      <td>23.0</td>\n",
       "      <td>25.355</td>\n",
       "    </tr>\n",
       "    <tr>\n",
       "      <th>1</th>\n",
       "      <td>47.0</td>\n",
       "      <td>13.093</td>\n",
       "    </tr>\n",
       "    <tr>\n",
       "      <th>2</th>\n",
       "      <td>47.0</td>\n",
       "      <td>10.114</td>\n",
       "    </tr>\n",
       "    <tr>\n",
       "      <th>3</th>\n",
       "      <td>28.0</td>\n",
       "      <td>7.798</td>\n",
       "    </tr>\n",
       "    <tr>\n",
       "      <th>4</th>\n",
       "      <td>61.0</td>\n",
       "      <td>18.043</td>\n",
       "    </tr>\n",
       "  </tbody>\n",
       "</table>\n",
       "</div>"
      ],
      "text/plain": [
       "    Age  Na_to_K\n",
       "0  23.0   25.355\n",
       "1  47.0   13.093\n",
       "2  47.0   10.114\n",
       "3  28.0    7.798\n",
       "4  61.0   18.043"
      ]
     },
     "execution_count": 58,
     "metadata": {},
     "output_type": "execute_result"
    }
   ],
   "source": [
    "df_num.head()"
   ]
  },
  {
   "cell_type": "code",
   "execution_count": 59,
   "metadata": {},
   "outputs": [],
   "source": [
    "df_cat=df.select_dtypes(include=[\"object\"])"
   ]
  },
  {
   "cell_type": "code",
   "execution_count": 60,
   "metadata": {},
   "outputs": [
    {
     "data": {
      "text/html": [
       "<div>\n",
       "<style scoped>\n",
       "    .dataframe tbody tr th:only-of-type {\n",
       "        vertical-align: middle;\n",
       "    }\n",
       "\n",
       "    .dataframe tbody tr th {\n",
       "        vertical-align: top;\n",
       "    }\n",
       "\n",
       "    .dataframe thead th {\n",
       "        text-align: right;\n",
       "    }\n",
       "</style>\n",
       "<table border=\"1\" class=\"dataframe\">\n",
       "  <thead>\n",
       "    <tr style=\"text-align: right;\">\n",
       "      <th></th>\n",
       "      <th>Sex</th>\n",
       "      <th>BP</th>\n",
       "      <th>Cholesterol</th>\n",
       "      <th>Drug</th>\n",
       "    </tr>\n",
       "  </thead>\n",
       "  <tbody>\n",
       "    <tr>\n",
       "      <th>0</th>\n",
       "      <td>F</td>\n",
       "      <td>HIGH</td>\n",
       "      <td>HIGH</td>\n",
       "      <td>DrugY</td>\n",
       "    </tr>\n",
       "    <tr>\n",
       "      <th>1</th>\n",
       "      <td>M</td>\n",
       "      <td>LOW</td>\n",
       "      <td>HIGH</td>\n",
       "      <td>drugC</td>\n",
       "    </tr>\n",
       "    <tr>\n",
       "      <th>2</th>\n",
       "      <td>M</td>\n",
       "      <td>LOW</td>\n",
       "      <td>HIGH</td>\n",
       "      <td>drugC</td>\n",
       "    </tr>\n",
       "    <tr>\n",
       "      <th>3</th>\n",
       "      <td>F</td>\n",
       "      <td>NORMAL</td>\n",
       "      <td>HIGH</td>\n",
       "      <td>drugX</td>\n",
       "    </tr>\n",
       "    <tr>\n",
       "      <th>4</th>\n",
       "      <td>F</td>\n",
       "      <td>LOW</td>\n",
       "      <td>HIGH</td>\n",
       "      <td>DrugY</td>\n",
       "    </tr>\n",
       "  </tbody>\n",
       "</table>\n",
       "</div>"
      ],
      "text/plain": [
       "  Sex      BP Cholesterol   Drug\n",
       "0   F    HIGH        HIGH  DrugY\n",
       "1   M     LOW        HIGH  drugC\n",
       "2   M     LOW        HIGH  drugC\n",
       "3   F  NORMAL        HIGH  drugX\n",
       "4   F     LOW        HIGH  DrugY"
      ]
     },
     "execution_count": 60,
     "metadata": {},
     "output_type": "execute_result"
    }
   ],
   "source": [
    "df_cat.head()"
   ]
  },
  {
   "cell_type": "code",
   "execution_count": 61,
   "metadata": {},
   "outputs": [],
   "source": [
    "df=pd.concat([df_num,df_cat],axis=1)"
   ]
  },
  {
   "cell_type": "code",
   "execution_count": 62,
   "metadata": {},
   "outputs": [
    {
     "data": {
      "text/html": [
       "<div>\n",
       "<style scoped>\n",
       "    .dataframe tbody tr th:only-of-type {\n",
       "        vertical-align: middle;\n",
       "    }\n",
       "\n",
       "    .dataframe tbody tr th {\n",
       "        vertical-align: top;\n",
       "    }\n",
       "\n",
       "    .dataframe thead th {\n",
       "        text-align: right;\n",
       "    }\n",
       "</style>\n",
       "<table border=\"1\" class=\"dataframe\">\n",
       "  <thead>\n",
       "    <tr style=\"text-align: right;\">\n",
       "      <th></th>\n",
       "      <th>Age</th>\n",
       "      <th>Na_to_K</th>\n",
       "      <th>Sex</th>\n",
       "      <th>BP</th>\n",
       "      <th>Cholesterol</th>\n",
       "      <th>Drug</th>\n",
       "    </tr>\n",
       "  </thead>\n",
       "  <tbody>\n",
       "    <tr>\n",
       "      <th>0</th>\n",
       "      <td>23.0</td>\n",
       "      <td>25.355</td>\n",
       "      <td>F</td>\n",
       "      <td>HIGH</td>\n",
       "      <td>HIGH</td>\n",
       "      <td>DrugY</td>\n",
       "    </tr>\n",
       "    <tr>\n",
       "      <th>1</th>\n",
       "      <td>47.0</td>\n",
       "      <td>13.093</td>\n",
       "      <td>M</td>\n",
       "      <td>LOW</td>\n",
       "      <td>HIGH</td>\n",
       "      <td>drugC</td>\n",
       "    </tr>\n",
       "    <tr>\n",
       "      <th>2</th>\n",
       "      <td>47.0</td>\n",
       "      <td>10.114</td>\n",
       "      <td>M</td>\n",
       "      <td>LOW</td>\n",
       "      <td>HIGH</td>\n",
       "      <td>drugC</td>\n",
       "    </tr>\n",
       "    <tr>\n",
       "      <th>3</th>\n",
       "      <td>28.0</td>\n",
       "      <td>7.798</td>\n",
       "      <td>F</td>\n",
       "      <td>NORMAL</td>\n",
       "      <td>HIGH</td>\n",
       "      <td>drugX</td>\n",
       "    </tr>\n",
       "    <tr>\n",
       "      <th>4</th>\n",
       "      <td>61.0</td>\n",
       "      <td>18.043</td>\n",
       "      <td>F</td>\n",
       "      <td>LOW</td>\n",
       "      <td>HIGH</td>\n",
       "      <td>DrugY</td>\n",
       "    </tr>\n",
       "  </tbody>\n",
       "</table>\n",
       "</div>"
      ],
      "text/plain": [
       "    Age  Na_to_K Sex      BP Cholesterol   Drug\n",
       "0  23.0   25.355   F    HIGH        HIGH  DrugY\n",
       "1  47.0   13.093   M     LOW        HIGH  drugC\n",
       "2  47.0   10.114   M     LOW        HIGH  drugC\n",
       "3  28.0    7.798   F  NORMAL        HIGH  drugX\n",
       "4  61.0   18.043   F     LOW        HIGH  DrugY"
      ]
     },
     "execution_count": 62,
     "metadata": {},
     "output_type": "execute_result"
    }
   ],
   "source": [
    "df.head()"
   ]
  },
  {
   "cell_type": "code",
   "execution_count": 63,
   "metadata": {},
   "outputs": [
    {
     "data": {
      "text/plain": [
       "DrugY    91\n",
       "drugX    54\n",
       "drugA    23\n",
       "drugB    16\n",
       "drugC    16\n",
       "Name: Drug, dtype: int64"
      ]
     },
     "execution_count": 63,
     "metadata": {},
     "output_type": "execute_result"
    }
   ],
   "source": [
    "df[\"Drug\"].value_counts()"
   ]
  },
  {
   "cell_type": "code",
   "execution_count": 64,
   "metadata": {},
   "outputs": [],
   "source": [
    "df[\"Drug\"].replace(\"drugA\",1,inplace=True)"
   ]
  },
  {
   "cell_type": "code",
   "execution_count": 65,
   "metadata": {},
   "outputs": [],
   "source": [
    "df[\"Drug\"].replace(\"drugB\",2,inplace=True)"
   ]
  },
  {
   "cell_type": "code",
   "execution_count": 66,
   "metadata": {},
   "outputs": [],
   "source": [
    "df[\"Drug\"].replace(\"drugC\",3,inplace=True)"
   ]
  },
  {
   "cell_type": "code",
   "execution_count": 67,
   "metadata": {},
   "outputs": [],
   "source": [
    "df[\"Drug\"].replace(\"drugX\",4,inplace=True)"
   ]
  },
  {
   "cell_type": "code",
   "execution_count": 68,
   "metadata": {},
   "outputs": [],
   "source": [
    "df[\"Drug\"].replace(\"DrugY\",5,inplace=True)"
   ]
  },
  {
   "cell_type": "markdown",
   "metadata": {},
   "source": [
    "#### splitting¶"
   ]
  },
  {
   "cell_type": "code",
   "execution_count": null,
   "metadata": {},
   "outputs": [],
   "source": []
  },
  {
   "cell_type": "code",
   "execution_count": null,
   "metadata": {},
   "outputs": [],
   "source": []
  },
  {
   "cell_type": "code",
   "execution_count": 69,
   "metadata": {},
   "outputs": [],
   "source": [
    "#split data\n",
    "y=df['Drug']\n",
    "x=df.drop('Drug', axis=1)"
   ]
  },
  {
   "cell_type": "code",
   "execution_count": 70,
   "metadata": {},
   "outputs": [],
   "source": [
    "# Encode categorical variables\n",
    "x= pd.get_dummies(x, drop_first=True)"
   ]
  },
  {
   "cell_type": "code",
   "execution_count": 71,
   "metadata": {},
   "outputs": [
    {
     "data": {
      "text/html": [
       "<div>\n",
       "<style scoped>\n",
       "    .dataframe tbody tr th:only-of-type {\n",
       "        vertical-align: middle;\n",
       "    }\n",
       "\n",
       "    .dataframe tbody tr th {\n",
       "        vertical-align: top;\n",
       "    }\n",
       "\n",
       "    .dataframe thead th {\n",
       "        text-align: right;\n",
       "    }\n",
       "</style>\n",
       "<table border=\"1\" class=\"dataframe\">\n",
       "  <thead>\n",
       "    <tr style=\"text-align: right;\">\n",
       "      <th></th>\n",
       "      <th>Age</th>\n",
       "      <th>Na_to_K</th>\n",
       "      <th>Sex_M</th>\n",
       "      <th>BP_LOW</th>\n",
       "      <th>BP_NORMAL</th>\n",
       "      <th>Cholesterol_NORMAL</th>\n",
       "    </tr>\n",
       "  </thead>\n",
       "  <tbody>\n",
       "    <tr>\n",
       "      <th>0</th>\n",
       "      <td>23.0</td>\n",
       "      <td>25.355</td>\n",
       "      <td>0</td>\n",
       "      <td>0</td>\n",
       "      <td>0</td>\n",
       "      <td>0</td>\n",
       "    </tr>\n",
       "    <tr>\n",
       "      <th>1</th>\n",
       "      <td>47.0</td>\n",
       "      <td>13.093</td>\n",
       "      <td>1</td>\n",
       "      <td>1</td>\n",
       "      <td>0</td>\n",
       "      <td>0</td>\n",
       "    </tr>\n",
       "    <tr>\n",
       "      <th>2</th>\n",
       "      <td>47.0</td>\n",
       "      <td>10.114</td>\n",
       "      <td>1</td>\n",
       "      <td>1</td>\n",
       "      <td>0</td>\n",
       "      <td>0</td>\n",
       "    </tr>\n",
       "    <tr>\n",
       "      <th>3</th>\n",
       "      <td>28.0</td>\n",
       "      <td>7.798</td>\n",
       "      <td>0</td>\n",
       "      <td>0</td>\n",
       "      <td>1</td>\n",
       "      <td>0</td>\n",
       "    </tr>\n",
       "    <tr>\n",
       "      <th>4</th>\n",
       "      <td>61.0</td>\n",
       "      <td>18.043</td>\n",
       "      <td>0</td>\n",
       "      <td>1</td>\n",
       "      <td>0</td>\n",
       "      <td>0</td>\n",
       "    </tr>\n",
       "  </tbody>\n",
       "</table>\n",
       "</div>"
      ],
      "text/plain": [
       "    Age  Na_to_K  Sex_M  BP_LOW  BP_NORMAL  Cholesterol_NORMAL\n",
       "0  23.0   25.355      0       0          0                   0\n",
       "1  47.0   13.093      1       1          0                   0\n",
       "2  47.0   10.114      1       1          0                   0\n",
       "3  28.0    7.798      0       0          1                   0\n",
       "4  61.0   18.043      0       1          0                   0"
      ]
     },
     "execution_count": 71,
     "metadata": {},
     "output_type": "execute_result"
    }
   ],
   "source": [
    "x.head()"
   ]
  },
  {
   "cell_type": "code",
   "execution_count": 72,
   "metadata": {},
   "outputs": [
    {
     "name": "stdout",
     "output_type": "stream",
     "text": [
      "<class 'pandas.core.frame.DataFrame'>\n",
      "RangeIndex: 200 entries, 0 to 199\n",
      "Data columns (total 6 columns):\n",
      " #   Column              Non-Null Count  Dtype  \n",
      "---  ------              --------------  -----  \n",
      " 0   Age                 200 non-null    float64\n",
      " 1   Na_to_K             200 non-null    float64\n",
      " 2   Sex_M               200 non-null    uint8  \n",
      " 3   BP_LOW              200 non-null    uint8  \n",
      " 4   BP_NORMAL           200 non-null    uint8  \n",
      " 5   Cholesterol_NORMAL  200 non-null    uint8  \n",
      "dtypes: float64(2), uint8(4)\n",
      "memory usage: 4.0 KB\n"
     ]
    }
   ],
   "source": [
    "x.info()"
   ]
  },
  {
   "cell_type": "code",
   "execution_count": null,
   "metadata": {},
   "outputs": [],
   "source": []
  },
  {
   "cell_type": "code",
   "execution_count": 73,
   "metadata": {},
   "outputs": [
    {
     "data": {
      "text/html": [
       "<div>\n",
       "<style scoped>\n",
       "    .dataframe tbody tr th:only-of-type {\n",
       "        vertical-align: middle;\n",
       "    }\n",
       "\n",
       "    .dataframe tbody tr th {\n",
       "        vertical-align: top;\n",
       "    }\n",
       "\n",
       "    .dataframe thead th {\n",
       "        text-align: right;\n",
       "    }\n",
       "</style>\n",
       "<table border=\"1\" class=\"dataframe\">\n",
       "  <thead>\n",
       "    <tr style=\"text-align: right;\">\n",
       "      <th></th>\n",
       "      <th>features</th>\n",
       "      <th>vif</th>\n",
       "    </tr>\n",
       "  </thead>\n",
       "  <tbody>\n",
       "    <tr>\n",
       "      <th>0</th>\n",
       "      <td>Age</td>\n",
       "      <td>5.217267</td>\n",
       "    </tr>\n",
       "    <tr>\n",
       "      <th>1</th>\n",
       "      <td>Na_to_K</td>\n",
       "      <td>3.949043</td>\n",
       "    </tr>\n",
       "    <tr>\n",
       "      <th>2</th>\n",
       "      <td>Sex_M</td>\n",
       "      <td>2.004140</td>\n",
       "    </tr>\n",
       "    <tr>\n",
       "      <th>5</th>\n",
       "      <td>Cholesterol_NORMAL</td>\n",
       "      <td>1.811260</td>\n",
       "    </tr>\n",
       "    <tr>\n",
       "      <th>3</th>\n",
       "      <td>BP_LOW</td>\n",
       "      <td>1.798912</td>\n",
       "    </tr>\n",
       "    <tr>\n",
       "      <th>4</th>\n",
       "      <td>BP_NORMAL</td>\n",
       "      <td>1.621792</td>\n",
       "    </tr>\n",
       "  </tbody>\n",
       "</table>\n",
       "</div>"
      ],
      "text/plain": [
       "             features       vif\n",
       "0                 Age  5.217267\n",
       "1             Na_to_K  3.949043\n",
       "2               Sex_M  2.004140\n",
       "5  Cholesterol_NORMAL  1.811260\n",
       "3              BP_LOW  1.798912\n",
       "4           BP_NORMAL  1.621792"
      ]
     },
     "execution_count": 73,
     "metadata": {},
     "output_type": "execute_result"
    }
   ],
   "source": [
    "from statsmodels.stats.outliers_influence import variance_inflation_factor\n",
    "vif_data=pd.DataFrame()\n",
    "vif_data[\"features\"]=x.columns\n",
    "vif_data[\"vif\"]=[variance_inflation_factor(x.values,i)for i in range(x.shape[1])]\n",
    "vif_data.sort_values(by=\"vif\",ascending=False)"
   ]
  },
  {
   "cell_type": "code",
   "execution_count": 74,
   "metadata": {},
   "outputs": [],
   "source": [
    "#split data using scaled data\n",
    "from sklearn.model_selection import train_test_split\n",
    "x_train, x_test, y_train, y_test = train_test_split(x, y, test_size=0.30, random_state=1)"
   ]
  },
  {
   "cell_type": "code",
   "execution_count": 75,
   "metadata": {},
   "outputs": [
    {
     "data": {
      "text/plain": [
       "(140, 6)"
      ]
     },
     "execution_count": 75,
     "metadata": {},
     "output_type": "execute_result"
    }
   ],
   "source": [
    "x_train.shape"
   ]
  },
  {
   "cell_type": "markdown",
   "metadata": {},
   "source": [
    "### Scaling"
   ]
  },
  {
   "cell_type": "code",
   "execution_count": 76,
   "metadata": {},
   "outputs": [],
   "source": [
    "from sklearn.preprocessing import LabelEncoder, StandardScaler\n",
    "# Standardize the features\n",
    "scaler = StandardScaler()\n",
    "x_train = scaler.fit_transform(x_train)\n",
    "x_test = scaler.transform(x_test)"
   ]
  },
  {
   "cell_type": "code",
   "execution_count": 77,
   "metadata": {},
   "outputs": [],
   "source": [
    "from sklearn.linear_model import LinearRegression\n",
    "from sklearn.tree import DecisionTreeRegressor\n",
    "from sklearn.ensemble import RandomForestRegressor\n",
    "from sklearn.metrics import mean_squared_error, r2_score"
   ]
  },
  {
   "cell_type": "markdown",
   "metadata": {},
   "source": [
    "### Data Modelling\n",
    "#### Regression Models\n",
    "#### Linear Regression"
   ]
  },
  {
   "cell_type": "code",
   "execution_count": 78,
   "metadata": {},
   "outputs": [],
   "source": [
    "# Initialize the model\n",
    "\n",
    "LRmodel = LinearRegression()"
   ]
  },
  {
   "cell_type": "code",
   "execution_count": 79,
   "metadata": {},
   "outputs": [
    {
     "data": {
      "text/plain": [
       "LinearRegression(copy_X=True, fit_intercept=True, n_jobs=None, normalize=False)"
      ]
     },
     "execution_count": 79,
     "metadata": {},
     "output_type": "execute_result"
    }
   ],
   "source": [
    "LRmodel.fit(x_train,y_train)"
   ]
  },
  {
   "cell_type": "code",
   "execution_count": 80,
   "metadata": {},
   "outputs": [],
   "source": [
    "# Make predictions on the train data\n",
    "\n",
    "LR_predicted = LRmodel.predict(x_train)"
   ]
  },
  {
   "cell_type": "code",
   "execution_count": 81,
   "metadata": {},
   "outputs": [
    {
     "name": "stdout",
     "output_type": "stream",
     "text": [
      "R2 score:   0.573\n",
      "Root Mean Squared Error:   0.928\n",
      "Mean Absolute Error:   0.737\n"
     ]
    }
   ],
   "source": [
    "# Evaluate train the model\n",
    "\n",
    "# r2 score\n",
    "lr_r2 = r2_score(y_train, LR_predicted).round(3)\n",
    "print('R2 score:  ', lr_r2)\n",
    "\n",
    "# root mean squared error (RMSE)\n",
    "lr_rmse = np.sqrt(mean_squared_error(y_train, LR_predicted)).round(3)\n",
    "print('Root Mean Squared Error:  ', lr_rmse) \n",
    "\n",
    "# mean absolute error (MAE)\n",
    "lr_mae = mean_absolute_error(y_train, LR_predicted).round(3)\n",
    "print('Mean Absolute Error:  ', lr_mae)\n"
   ]
  },
  {
   "cell_type": "code",
   "execution_count": 82,
   "metadata": {},
   "outputs": [],
   "source": [
    "from sklearn.metrics import classification_report"
   ]
  },
  {
   "cell_type": "code",
   "execution_count": 83,
   "metadata": {},
   "outputs": [],
   "source": [
    "# Make predictions on the test data\n",
    "\n",
    "LR_predicted = LRmodel.predict(x_test)"
   ]
  },
  {
   "cell_type": "code",
   "execution_count": 84,
   "metadata": {},
   "outputs": [
    {
     "name": "stdout",
     "output_type": "stream",
     "text": [
      "R2 score:   0.64\n",
      "Root Mean Squared Error:   0.739\n",
      "Mean Absolute Error:   0.568\n"
     ]
    }
   ],
   "source": [
    "# Evaluate test the model\n",
    "\n",
    "# r2 score\n",
    "lr_r2 = r2_score(y_test, LR_predicted).round(3)\n",
    "print('R2 score:  ', lr_r2)\n",
    "\n",
    "# root mean squared error (RMSE)\n",
    "lr_rmse = np.sqrt(mean_squared_error(y_test, LR_predicted)).round(3)\n",
    "print('Root Mean Squared Error:  ', lr_rmse) \n",
    "\n",
    "# mean absolute error (MAE)\n",
    "lr_mae = mean_absolute_error(y_test, LR_predicted).round(3)\n",
    "print('Mean Absolute Error:  ', lr_mae)\n"
   ]
  },
  {
   "cell_type": "markdown",
   "metadata": {},
   "source": [
    "#### Decision Tree"
   ]
  },
  {
   "cell_type": "code",
   "execution_count": 85,
   "metadata": {},
   "outputs": [],
   "source": [
    "# Initialize the model\n",
    "dt_model=DecisionTreeRegressor(random_state=0)"
   ]
  },
  {
   "cell_type": "code",
   "execution_count": 86,
   "metadata": {},
   "outputs": [
    {
     "data": {
      "text/plain": [
       "DecisionTreeRegressor(ccp_alpha=0.0, criterion='mse', max_depth=None,\n",
       "                      max_features=None, max_leaf_nodes=None,\n",
       "                      min_impurity_decrease=0.0, min_impurity_split=None,\n",
       "                      min_samples_leaf=1, min_samples_split=2,\n",
       "                      min_weight_fraction_leaf=0.0, presort='deprecated',\n",
       "                      random_state=0, splitter='best')"
      ]
     },
     "execution_count": 86,
     "metadata": {},
     "output_type": "execute_result"
    }
   ],
   "source": [
    "dt_model.fit(x_train,y_train)"
   ]
  },
  {
   "cell_type": "code",
   "execution_count": 87,
   "metadata": {},
   "outputs": [],
   "source": [
    "# Make predictions on the train data\n",
    "\n",
    "dt_predicted = dt_model.predict(x_train)"
   ]
  },
  {
   "cell_type": "code",
   "execution_count": 88,
   "metadata": {},
   "outputs": [
    {
     "name": "stdout",
     "output_type": "stream",
     "text": [
      "r2 score 1.0\n",
      "RMSE 0.0\n",
      "MAE 0.0\n"
     ]
    }
   ],
   "source": [
    "#evaluate model using train\n",
    "#r2 score\n",
    "dt_r2=r2_score(y_train,dt_predicted).round(3)\n",
    "print(\"r2 score\",dt_r2)\n",
    "#rmse\n",
    "dt_rmse=np.sqrt(mean_squared_error(y_train,dt_predicted)).round(3)\n",
    "print(\"RMSE\",dt_rmse)\n",
    "#mae\n",
    "dt_mae=mean_absolute_error(y_train,dt_predicted).round(3)\n",
    "print(\"MAE\",dt_mae)\n"
   ]
  },
  {
   "cell_type": "code",
   "execution_count": 89,
   "metadata": {},
   "outputs": [],
   "source": [
    "# Make predictions on the test data\n",
    "\n",
    "dt_predicted = dt_model.predict(x_test)"
   ]
  },
  {
   "cell_type": "code",
   "execution_count": 90,
   "metadata": {},
   "outputs": [
    {
     "name": "stdout",
     "output_type": "stream",
     "text": [
      "r2 score 0.989\n",
      "RMSE 0.129\n",
      "MAE 0.017\n"
     ]
    }
   ],
   "source": [
    "#evaluate model using test\n",
    "#r2 score\n",
    "dt_r2=r2_score(y_test,dt_predicted).round(3)\n",
    "print(\"r2 score\",dt_r2)\n",
    "#rmse\n",
    "dt_rmse=np.sqrt(mean_squared_error(y_test,dt_predicted)).round(3)\n",
    "print(\"RMSE\",dt_rmse)\n",
    "#mae\n",
    "dt_mae=mean_absolute_error(y_test,dt_predicted).round(3)\n",
    "print(\"MAE\",dt_mae)\n"
   ]
  },
  {
   "cell_type": "markdown",
   "metadata": {},
   "source": [
    "### Random Forest"
   ]
  },
  {
   "cell_type": "code",
   "execution_count": 91,
   "metadata": {},
   "outputs": [],
   "source": [
    "#RF MODEL\n",
    "RF_model=RandomForestRegressor(n_estimators = 100, max_depth = 4, random_state = 0)"
   ]
  },
  {
   "cell_type": "code",
   "execution_count": 92,
   "metadata": {},
   "outputs": [
    {
     "data": {
      "text/plain": [
       "RandomForestRegressor(bootstrap=True, ccp_alpha=0.0, criterion='mse',\n",
       "                      max_depth=4, max_features='auto', max_leaf_nodes=None,\n",
       "                      max_samples=None, min_impurity_decrease=0.0,\n",
       "                      min_impurity_split=None, min_samples_leaf=1,\n",
       "                      min_samples_split=2, min_weight_fraction_leaf=0.0,\n",
       "                      n_estimators=100, n_jobs=None, oob_score=False,\n",
       "                      random_state=0, verbose=0, warm_start=False)"
      ]
     },
     "execution_count": 92,
     "metadata": {},
     "output_type": "execute_result"
    }
   ],
   "source": [
    "# Fit model to the training data\n",
    "\n",
    "RF_model.fit(x_train, y_train)"
   ]
  },
  {
   "cell_type": "code",
   "execution_count": 93,
   "metadata": {},
   "outputs": [],
   "source": [
    "# Make predictions on the train data\n",
    "\n",
    "RF_predicted = RF_model.predict(x_train)"
   ]
  },
  {
   "cell_type": "code",
   "execution_count": 94,
   "metadata": {},
   "outputs": [
    {
     "name": "stdout",
     "output_type": "stream",
     "text": [
      "R2 score:   0.999\n",
      "Root Mean Squared Error:   0.037\n",
      "Mean Absolute Error:   0.01\n"
     ]
    }
   ],
   "source": [
    "# Evaluate  the model\n",
    "\n",
    "# r2 score\n",
    "rf_r2 = r2_score(y_train, RF_predicted).round(3)\n",
    "print('R2 score:  ', rf_r2)\n",
    "\n",
    "# root mean squared error (RMSE)\n",
    "rf_rmse = np.sqrt(mean_squared_error(y_train, RF_predicted)).round(3)\n",
    "print('Root Mean Squared Error:  ', rf_rmse) \n",
    "\n",
    "# mean absolute error (MAE)\n",
    "rf_mae = mean_absolute_error(y_train, RF_predicted).round(3)\n",
    "print('Mean Absolute Error:  ', rf_mae)\n"
   ]
  },
  {
   "cell_type": "code",
   "execution_count": 95,
   "metadata": {},
   "outputs": [],
   "source": [
    "# Make predictions on the test data\n",
    "\n",
    "RF_predicted = RF_model.predict(x_test)"
   ]
  },
  {
   "cell_type": "code",
   "execution_count": 96,
   "metadata": {},
   "outputs": [
    {
     "name": "stdout",
     "output_type": "stream",
     "text": [
      "R2 score:   0.989\n",
      "Root Mean Squared Error:   0.127\n",
      "Mean Absolute Error:   0.026\n"
     ]
    }
   ],
   "source": [
    "# Evaluate  the model\n",
    "\n",
    "# r2 score\n",
    "rf_r2 = r2_score(y_test, RF_predicted).round(3)\n",
    "print('R2 score:  ', rf_r2)\n",
    "\n",
    "# root mean squared error (RMSE)\n",
    "rf_rmse = np.sqrt(mean_squared_error(y_test, RF_predicted)).round(3)\n",
    "print('Root Mean Squared Error:  ', rf_rmse) \n",
    "\n",
    "# mean absolute error (MAE)\n",
    "rf_mae = mean_absolute_error(y_test, RF_predicted).round(3)\n",
    "print('Mean Absolute Error:  ', rf_mae)"
   ]
  },
  {
   "cell_type": "markdown",
   "metadata": {},
   "source": [
    "### Ridge Model\n"
   ]
  },
  {
   "cell_type": "code",
   "execution_count": 97,
   "metadata": {},
   "outputs": [
    {
     "name": "stdout",
     "output_type": "stream",
     "text": [
      "Training Set Metrics:\n",
      "R-squared: 0.5729983325325073\n",
      "RMSE: 0.9282980629668434\n",
      "MAE: 0.7377692649844164\n",
      "\n",
      "Testing Set Metrics:\n",
      "R-squared: 0.6402372708131385\n",
      "RMSE: 0.7386069355044665\n",
      "MAE: 0.5675326892748253\n"
     ]
    }
   ],
   "source": [
    "# Importing necessary libraries\n",
    "from sklearn.linear_model import Ridge\n",
    "from sklearn.metrics import mean_squared_error, mean_absolute_error\n",
    "\n",
    "# Fitting the Ridge regression model on the training data\n",
    "ridge = Ridge(alpha=1.0)\n",
    "ridge.fit(x_train, y_train)\n",
    "\n",
    "# Making predictions on the training set\n",
    "train_predictions = ridge.predict(x_train)\n",
    "\n",
    "# Calculating R-squared, RMSE, and MAE for the training set\n",
    "train_r2 = ridge.score(x_train, y_train)\n",
    "train_rmse = mean_squared_error(y_train, train_predictions, squared=False)\n",
    "train_mae = mean_absolute_error(y_train, train_predictions)\n",
    "\n",
    "# Displaying the training set metrics\n",
    "print(\"Training Set Metrics:\")\n",
    "print(f\"R-squared: {train_r2}\")\n",
    "print(f\"RMSE: {train_rmse}\")\n",
    "print(f\"MAE: {train_mae}\")\n",
    "\n",
    "# Making predictions on the testing set\n",
    "test_predictions = ridge.predict(x_test)\n",
    "\n",
    "# Calculating R-squared, RMSE, and MAE for the testing set\n",
    "test_r2 = ridge.score(x_test, y_test)\n",
    "test_rmse = mean_squared_error(y_test, test_predictions, squared=False)\n",
    "test_mae = mean_absolute_error(y_test, test_predictions)\n",
    "\n",
    "# Displaying the testing set metrics\n",
    "print(\"\\nTesting Set Metrics:\")\n",
    "print(f\"R-squared: {test_r2}\")\n",
    "print(f\"RMSE: {test_rmse}\")\n",
    "print(f\"MAE: {test_mae}\")\n"
   ]
  },
  {
   "cell_type": "markdown",
   "metadata": {},
   "source": [
    "### Lasso model"
   ]
  },
  {
   "cell_type": "code",
   "execution_count": 98,
   "metadata": {},
   "outputs": [
    {
     "name": "stdout",
     "output_type": "stream",
     "text": [
      "Training Set Metrics:\n",
      "R-squared: 0.0\n",
      "RMSE: 1.4206027751971904\n",
      "MAE: 1.1668367346938775\n",
      "\n",
      "Testing Set Metrics:\n",
      "R-squared: -0.017286562912397274\n",
      "RMSE: 1.2420153142438812\n",
      "MAE: 1.011904761904762\n"
     ]
    }
   ],
   "source": [
    "# Importing necessary libraries\n",
    "from sklearn.linear_model import Lasso\n",
    "from sklearn.metrics import mean_squared_error, mean_absolute_error\n",
    "\n",
    "# Fitting the Lasso regression model on the training data\n",
    "lasso = Lasso(alpha=1.0)\n",
    "lasso.fit(x_train, y_train)\n",
    "\n",
    "# Making predictions on the training set\n",
    "train_predictions = lasso.predict(x_train)\n",
    "\n",
    "# Calculating R-squared, RMSE, and MAE for the training set\n",
    "train_r2 = lasso.score(x_train, y_train)\n",
    "train_rmse = mean_squared_error(y_train, train_predictions, squared=False)\n",
    "train_mae = mean_absolute_error(y_train, train_predictions)\n",
    "\n",
    "# Displaying the training set metrics\n",
    "print(\"Training Set Metrics:\")\n",
    "print(f\"R-squared: {train_r2}\")\n",
    "print(f\"RMSE: {train_rmse}\")\n",
    "print(f\"MAE: {train_mae}\")\n",
    "\n",
    "# Making predictions on the testing set\n",
    "test_predictions = lasso.predict(x_test)\n",
    "\n",
    "# Calculating R-squared, RMSE, and MAE for the testing set\n",
    "test_r2 = lasso.score(x_test, y_test)\n",
    "test_rmse = mean_squared_error(y_test, test_predictions, squared=False)\n",
    "test_mae = mean_absolute_error(y_test, test_predictions)\n",
    "\n",
    "# Displaying the testing set metrics\n",
    "print(\"\\nTesting Set Metrics:\")\n",
    "print(f\"R-squared: {test_r2}\")\n",
    "print(f\"RMSE: {test_rmse}\")\n",
    "print(f\"MAE: {test_mae}\")"
   ]
  },
  {
   "cell_type": "markdown",
   "metadata": {},
   "source": [
    "### compare all models"
   ]
  },
  {
   "cell_type": "markdown",
   "metadata": {},
   "source": [
    "\n",
    "### 1. **Linear Regression**\n",
    "- **Training Set**:\n",
    "  - R²: 0.573\n",
    "  - RMSE: 0.928\n",
    "  - MAE: 0.737\n",
    "- **Testing Set**:\n",
    "  - R²: 0.640\n",
    "  - RMSE: 0.739\n",
    "  - MAE: 0.568\n",
    "\n",
    "Linear regression performs moderately well, with a decent R² score and acceptable error metrics on both the training and testing sets. However, it suggests room for improvement, especially with the testing RMSE of 0.739.\n",
    "\n",
    "---\n",
    "\n",
    "### 2. **Decision Tree**\n",
    "- **Training Set**:\n",
    "  - R²: 1.000\n",
    "  - RMSE: 0.000\n",
    "  - MAE: 0.000\n",
    "- **Testing Set**:\n",
    "  - R²: 0.989\n",
    "  - RMSE: 0.129\n",
    "  - MAE: 0.017\n",
    "\n",
    "The Decision Tree model exhibits perfect performance on the training set (R² = 1.0), indicating overfitting. However, it also performs well on the testing set with an excellent R² (0.989) and very low error metrics. Despite overfitting, it generalizes well to unseen data.\n",
    "\n",
    "---\n",
    "\n",
    "### 3. **Random Forest**\n",
    "- **Training Set**:\n",
    "  - R²: 0.999\n",
    "  - RMSE: 0.037\n",
    "  - MAE: 0.010\n",
    "- **Testing Set**:\n",
    "  - R²: 0.989\n",
    "  - RMSE: 0.127\n",
    "  - MAE: 0.026\n",
    "\n",
    "Random Forest performs almost as well as Decision Tree. It slightly overfits the training set (R² = 0.999) but generalizes very well to the testing data, with low RMSE and MAE on both sets. Given its slightly better error metrics compared to Decision Tree, it performs very well overall.\n",
    "\n",
    "---\n",
    "\n",
    "### 4. **Ridge Regression**\n",
    "- **Training Set**:\n",
    "  - R²: 0.573\n",
    "  - RMSE: 0.928\n",
    "  - MAE: 0.737\n",
    "- **Testing Set**:\n",
    "  - R²: 0.640\n",
    "  - RMSE: 0.739\n",
    "  - MAE: 0.567\n",
    "\n",
    "Ridge regression gives results similar to linear regression, indicating that regularization doesn't significantly improve the performance for this particular dataset.\n",
    "\n",
    "---\n",
    "\n",
    "### 5. **Lasso Regression**\n",
    "- **Training Set**:\n",
    "  - R²: 0.0\n",
    "  - RMSE: 1.421\n",
    "  - MAE: 1.167\n",
    "- **Testing Set**:\n",
    "  - R²: -0.017\n",
    "  - RMSE: 1.242\n",
    "  - MAE: 1.012\n",
    "\n",
    "Lasso regression performs poorly, with an R² of 0 for the training set and negative R² for the testing set, indicating that it fails to explain any variance in the target variable and severely underfits.\n",
    "\n",
    "---\n",
    "\n",
    "### **Conclusion: Best Model**\n",
    "\n",
    "- **Random Forest** is the best-performing model overall. It has:\n",
    "  - High R² on both training (0.999) and testing (0.989) sets.\n",
    "  - Low RMSE and MAE, indicating accurate predictions with minimal errors.\n",
    "  - It generalizes better than the Decision Tree, which slightly overfits.\n",
    "\n"
   ]
  },
  {
   "cell_type": "markdown",
   "metadata": {},
   "source": [
    "### Hyperparameter Random forest Model"
   ]
  },
  {
   "cell_type": "code",
   "execution_count": 99,
   "metadata": {},
   "outputs": [
    {
     "name": "stdout",
     "output_type": "stream",
     "text": [
      "Fitting 5 folds for each of 384 candidates, totalling 1920 fits\n"
     ]
    },
    {
     "name": "stderr",
     "output_type": "stream",
     "text": [
      "[Parallel(n_jobs=-1)]: Using backend LokyBackend with 4 concurrent workers.\n",
      "[Parallel(n_jobs=-1)]: Done  33 tasks      | elapsed:    3.7s\n",
      "[Parallel(n_jobs=-1)]: Done 154 tasks      | elapsed:   10.7s\n",
      "[Parallel(n_jobs=-1)]: Done 357 tasks      | elapsed:   22.7s\n",
      "[Parallel(n_jobs=-1)]: Done 640 tasks      | elapsed:   39.6s\n",
      "[Parallel(n_jobs=-1)]: Done 1005 tasks      | elapsed:  1.0min\n",
      "[Parallel(n_jobs=-1)]: Done 1450 tasks      | elapsed:  1.5min\n"
     ]
    },
    {
     "name": "stdout",
     "output_type": "stream",
     "text": [
      "Tuned Random Forest\n",
      "Best Parameters: {'max_depth': None, 'max_features': None, 'min_samples_leaf': 1, 'min_samples_split': 2}\n",
      "Test R2 score: 0.989\n",
      "Test Root Mean Squared Error: 0.131\n",
      "Test Mean Absolute Error: 0.024\n",
      "Train R2 score: 0.999\n",
      "Train Root Mean Squared Error: 0.053\n",
      "Train Mean Absolute Error: 0.009\n"
     ]
    },
    {
     "name": "stderr",
     "output_type": "stream",
     "text": [
      "[Parallel(n_jobs=-1)]: Done 1920 out of 1920 | elapsed:  2.1min finished\n"
     ]
    }
   ],
   "source": [
    "from sklearn.model_selection import GridSearchCV\n",
    "from sklearn.ensemble import RandomForestRegressor\n",
    "from sklearn.metrics import r2_score, mean_squared_error, mean_absolute_error\n",
    "import numpy as np\n",
    "\n",
    "# Define the parameter grid for Grid Search\n",
    "param_grid = {\n",
    "    'max_depth': [None, 10, 20, 30, 40, 50],\n",
    "    'min_samples_split': [2, 5, 10, 20],\n",
    "    'min_samples_leaf': [1, 2, 4, 8],\n",
    "    'max_features': [None, 'auto', 'sqrt', 'log2']\n",
    "}\n",
    "\n",
    "# Initialize the GridSearchCV object\n",
    "grid_search = GridSearchCV(estimator=RandomForestRegressor(random_state=1), param_grid=param_grid, cv=5, n_jobs=-1, verbose=2)\n",
    "\n",
    "# Fit the grid search to the training data\n",
    "grid_search.fit(x_train, y_train)\n",
    "\n",
    "# Retrieve the best estimator\n",
    "best_rf = grid_search.best_estimator_\n",
    "\n",
    "# Make predictions on the test data using the best estimator\n",
    "best_rf_predicted_test = best_rf.predict(x_test)\n",
    "\n",
    "# Evaluate the tuned model on the test data\n",
    "best_rf_r2_test = r2_score(y_test, best_rf_predicted_test).round(3)\n",
    "best_rf_rmse_test = np.sqrt(mean_squared_error(y_test, best_rf_predicted_test)).round(3)\n",
    "best_rf_mae_test = mean_absolute_error(y_test, best_rf_predicted_test).round(3)\n",
    "\n",
    "# Print evaluation results for test data\n",
    "print('Tuned Random Forest')\n",
    "print('Best Parameters:', grid_search.best_params_)\n",
    "print('Test R2 score:', best_rf_r2_test)\n",
    "print('Test Root Mean Squared Error:', best_rf_rmse_test)\n",
    "print('Test Mean Absolute Error:', best_rf_mae_test)\n",
    "\n",
    "# Make predictions on the train data using the best estimator\n",
    "best_rf_predicted_train = best_rf.predict(x_train)\n",
    "\n",
    "# Evaluate the tuned model on the train data\n",
    "best_rf_r2_train = r2_score(y_train, best_rf_predicted_train).round(3)\n",
    "best_rf_rmse_train = np.sqrt(mean_squared_error(y_train, best_rf_predicted_train)).round(3)\n",
    "best_rf_mae_train = mean_absolute_error(y_train, best_rf_predicted_train).round(3)\n",
    "\n",
    "# Print evaluation results for train data\n",
    "print('Train R2 score:', best_rf_r2_train)\n",
    "print('Train Root Mean Squared Error:', best_rf_rmse_train)\n",
    "print('Train Mean Absolute Error:', best_rf_mae_train)\n"
   ]
  },
  {
   "cell_type": "markdown",
   "metadata": {},
   "source": [
    "## performance table \n",
    "\n",
    "| Model                | Dataset       | R²    | RMSE   | MAE    |\n",
    "|----------------------|---------------|-------|--------|--------|\n",
    "| **Linear Regression** | Training      | 0.573 | 0.928  | 0.737  |\n",
    "|                      | Testing       | 0.640 | 0.739  | 0.568  |\n",
    "| **Decision Tree**    | Training      | 1.000 | 0.000  | 0.000  |\n",
    "|                      | Testing       | 0.989 | 0.129  | 0.017  |\n",
    "| **Random Forest**    | Training      | 0.999 | 0.037  | 0.010  |\n",
    "|                      | Testing       | 0.989 | 0.127  | 0.026  |\n",
    "| **Ridge Regression**  | Training      | 0.573 | 0.928  | 0.737  |\n",
    "|                      | Testing       | 0.640 | 0.739  | 0.567  |\n",
    "| **Lasso Regression**  | Training      | 0.000 | 1.421  | 1.167  |\n",
    "|                      | Testing       | -0.017| 1.242  | 1.012  |\n",
    "| **Random Forest (Tuned)** | Train     | 0.999    | 0.053 | 0.009 |\n",
    "|                           | Test      | 0.989    | 0.131 | 0.024 |\n",
    "\n"
   ]
  },
  {
   "cell_type": "markdown",
   "metadata": {},
   "source": [
    "\n",
    "### Conclusion:\n",
    "The **Decision Tree** and **Random Forest (both untuned and tuned)** models perform exceptionally well with an **R² of 0.989** and very low error metrics. However, since the **Random Forest** model exhibits a slightly more balanced performance and typically avoids the overfitting problem that decision trees are prone to, I would recommend the **Random Forest (Tuned)** as the best model due to its strong predictive performance and more reliable generalization across the training and testing sets."
   ]
  },
  {
   "cell_type": "markdown",
   "metadata": {},
   "source": [
    "# **Overall Insights and Recommendations:**\n",
    "\n",
    "#### 1. **Age Distribution:**\n",
    "   - **Majority Age Group:** The population predominantly falls within the **40-50 years** age range, highlighting a middle-aged focus.\n",
    "   - **Implications:** Health and marketing strategies should target middle-aged adults, who are more prone to chronic conditions, to improve health outcomes and tailor services.\n",
    "\n",
    "#### 2. **Gender Balance:**\n",
    "   - **Equal Representation:** There is an equal representation of **males and females**, ensuring a balanced dataset free from gender bias.\n",
    "   - **Implications:** This allows for inclusive health and marketing strategies designed for both genders without skewed insights.\n",
    "\n",
    "#### 3. **Blood Pressure Distribution:**\n",
    "   - **High Prevalence of Hypertension:** The majority of the population has **high blood pressure**, followed by a smaller percentage with **low BP**, and only a small portion with **normal BP**.\n",
    "   - **Implications:** There is a need for health interventions, such as hypertension management programs, to address the cardiovascular risks associated with high BP.\n",
    "\n",
    "#### 4. **Cholesterol Levels:**\n",
    "   - **High Cholesterol Dominance:** A significant portion of the population has **high cholesterol** levels, adding to cardiovascular risk factors.\n",
    "   - **Implications:** Health campaigns focused on cholesterol management, including dietary changes and medication, would be beneficial.\n",
    "\n",
    "#### 5. **Sodium-to-Potassium Ratio (Na/K):**\n",
    "   - **Healthier Balance:** Most individuals exhibit a healthier **Na/K ratio**, although some still have higher ratios associated with poor dietary habits.\n",
    "   - **Implications:** Promoting a **low-sodium diet** and raising awareness about sodium-to-potassium balance could help prevent related health risks like hypertension.\n",
    "\n",
    "#### 6. **Drug Popularity:**\n",
    "   - **High Use of DrugY:** **DrugY** is the most prescribed medication, followed by **DrugC** and **DrugX**, while **DrugA** and **DrugB** are less common.\n",
    "   - **Implications:** DrugY’s high usage suggests its relevance in treating prevalent conditions, whereas the effectiveness and demand for Drugs A and B might need re-evaluation.\n",
    "\n",
    "#### 7. **Age and Health Indicators:**\n",
    "   - **Older Population at Higher Risk:** Individuals with high blood pressure and cholesterol tend to be older, suggesting age as a major factor in these conditions.\n",
    "   - **Implications:** Age-specific health interventions should be developed for older individuals with hypertension and cholesterol issues.\n",
    "\n",
    "---\n",
    "\n",
    "### **Overall Recommendations:**\n",
    "\n",
    "1. **Targeted Health Campaigns:** Design age-specific campaigns for middle-aged and older adults with a focus on managing **high BP** and **cholesterol** through preventive measures like **regular screenings**, **low-sodium diets**, and **exercise programs**.\n",
    "   \n",
    "2. **Workforce Planning:** If related to workforce data, anticipate retirement for the middle-aged segment and recruit younger employees to maintain workforce balance.\n",
    "\n",
    "3. **Pharmaceutical Market Demand:** Increase production and marketing of **DrugY**, while re-evaluating the effectiveness and market potential of **DrugA** and **DrugB**.\n",
    "\n",
    "4. **Chronic Disease Management:** Implement tailored health interventions for individuals with high BP and cholesterol, and establish **early screening** programs for younger populations to prevent future cardiovascular issues.\n",
    "\n",
    "5. **Gender-Specific Marketing:** Since both genders are equally represented, ensure that health campaigns and product offerings cater to both **males** and **females** without bias.\n",
    "\n",
    "6. **Nutritional Guidelines:** Focus on non-age-related dietary factors influencing Na/K ratios. Develop clinical guidelines for the elderly, emphasizing **personalized treatment plans** for managing high BP and cholesterol.\n",
    "\n",
    "---\n",
    "\n",
    "### **Conclusion:**\n",
    "The **Decision Tree** and **Random Forest** models, both untuned and tuned, perform exceptionally well, with **R² of 0.989** and low error metrics. However, since the **Random Forest** model shows more balanced performance and typically avoids overfitting (a common issue with decision trees), I recommend the **Tuned Random Forest model** as the best predictive model. It offers stronger generalization and reliability across both training and testing sets, making it the optimal choice for accurately predicting outcomes in this dataset."
   ]
  },
  {
   "cell_type": "markdown",
   "metadata": {},
   "source": [
    "### **Insights on Drug Safety:**\n",
    "\n",
    "1. **Cholesterol Levels and Drug Safety:**\n",
    "   - **DrugY** is widely used for both **high** and **normal cholesterol** levels, indicating that it is effective across a broad range of patients. However, given its widespread use, it's crucial to monitor for potential side effects, particularly in older patients and those with cardiovascular risks.\n",
    "   - **DrugB** and **DrugC** are only prescribed for patients with **high cholesterol**, suggesting they may have more specific applications but could pose risks for patients with **normal cholesterol**. Their selective use may limit adverse effects, but this should be further researched for safety in diverse populations.\n",
    "   - **DrugX** is more common in individuals with **normal cholesterol** than in those with high cholesterol, implying it may be safer or more effective for patients with stable cholesterol levels.\n",
    "\n",
    "2. **Na+K+ Levels and Drug Safety:**\n",
    "   - **DrugY** has the highest impact on **Na+K+** levels, which could lead to imbalances in electrolyte levels, especially in patients with high blood pressure. This presents a potential safety concern, as severe electrolyte disturbances could result in complications such as arrhythmias.\n",
    "   - **DrugC** and **DrugX** have similar **Na+K+ impacts** (around 15), suggesting these drugs may have moderate effects on electrolyte balance and could be safer alternatives for patients at risk of electrolyte disturbances.\n",
    "   - **DrugA** and **DrugB** have lower **Na+K+ levels**, indicating they may have a lower risk of causing electrolyte imbalances and might be safer options for patients prone to sodium-potassium-related health issues.\n",
    "\n",
    "3. **Blood Pressure and Drug Safety:**\n",
    "   - **DrugY** shows the highest impact on **Na_to_K** levels across all **blood pressure categories**, particularly in those with **high BP**. This indicates that while it is effective for high BP, its strong effect on electrolyte balance requires careful monitoring to prevent safety issues, such as **hypertension** or **hypokalemia**.\n",
    "   - **DrugA** and **DrugB** have minimal impacts on Na+K+ levels for individuals with **normal BP**, suggesting they are safer for those without electrolyte imbalances or with stable blood pressure.\n",
    "\n",
    "4. **Age and Drug Safety:**\n",
    "   - **DrugY** is more frequently prescribed to **older individuals**, who may have a higher risk of side effects due to age-related changes in metabolism and organ function (e.g., kidney or heart issues). Special care is needed for dosage and monitoring in these patients to avoid potential adverse effects.\n",
    "   - **DrugA** and **DrugB** tend to be used for **younger patients**, potentially indicating fewer long-term safety concerns but requiring further evaluation for their effectiveness and side effect profile over extended use.\n",
    "\n",
    "5. **Gender and Drug Safety:**\n",
    "   - **Females** generally exhibit higher **Na+K+ levels** with some drugs, particularly in **low BP** conditions, suggesting a greater risk of electrolyte imbalances in women. This indicates that gender-specific dosage adjustments may be necessary to ensure drug safety.\n",
    "   - **Males** show slightly higher **Na+K+ levels** in high and normal BP conditions, meaning that men might experience different side effects compared to women, which should be accounted for in treatment plans.\n",
    "\n",
    "---\n",
    "\n",
    "### **Recommendations for Drug Safety:**\n",
    "\n",
    "1. **Electrolyte Monitoring:**\n",
    "   - Due to **DrugY's** strong impact on **Na+K+ levels**, it is crucial to implement regular **electrolyte monitoring** for patients on this drug, particularly those with high blood pressure or older patients who are more prone to imbalances.\n",
    "   - **DrugA** and **DrugB** may be considered safer alternatives for patients at risk of **electrolyte disturbances**, as their impact on Na+K+ levels is relatively low.\n",
    "\n",
    "2. **Personalized Treatment Plans:**\n",
    "   - For patients with **high BP** or **high cholesterol**, more **personalized treatment** is recommended. Drugs like **DrugY** can be effective but should be closely monitored, particularly in older adults who are more susceptible to side effects.\n",
    "   - Drugs like **DrugA** and **DrugB**, which have lower impacts on electrolyte levels, should be considered for patients who are more vulnerable to sodium-potassium imbalances.\n",
    "\n",
    "3. **Age-Specific Guidelines:**\n",
    "   - **Older patients** taking **DrugY** should follow age-specific dosage guidelines, as age-related changes in metabolism could increase the risk of adverse effects. Periodic kidney function tests and cardiovascular monitoring may also be necessary.\n",
    "   - For **younger patients**, drugs such as **DrugA** and **DrugB** might be safer in the long term, but further research is needed to ensure their safety over extended periods.\n",
    "\n",
    "4. **Gender-Specific Considerations:**\n",
    "   - Given the higher **Na+K+ levels in females** when taking certain drugs, it is essential to adjust dosages or switch to medications that have a lesser impact on electrolyte balance for women, especially those with **low blood pressure**.\n",
    "   - **Males** with high or normal BP may require different dosage strategies to ensure the safety and minimize the risk of electrolyte imbalances.\n",
    "\n",
    "5. **Cholesterol-Specific Drug Safety:**\n",
    "   - **DrugB** and **DrugC** should be reserved for patients with **high cholesterol** to avoid unnecessary side effects in individuals with **normal cholesterol**. Their safety in treating patients with stable cholesterol levels should be reassessed before expanding their use.\n",
    "   - **DrugX** appears to be safer for individuals with **normal cholesterol** and should be prioritized for patients without severe cholesterol issues to minimize risks.\n",
    "\n",
    "6. **Routine Safety Assessments:**\n",
    "   - Implement **routine safety checks** for patients using drugs with higher side effect potential (e.g., DrugY). This could include regular **blood pressure**, **cholesterol**, and **Na+K+ level monitoring** to preemptively identify and mitigate any adverse effects.\n",
    "\n",
    "By implementing these safety measures, drug therapies can be optimized to minimize risks while ensuring effective treatment for patients across different age groups, cholesterol conditions, and genders."
   ]
  },
  {
   "cell_type": "code",
   "execution_count": null,
   "metadata": {},
   "outputs": [],
   "source": []
  }
 ],
 "metadata": {
  "kernelspec": {
   "display_name": "Python 3",
   "language": "python",
   "name": "python3"
  },
  "language_info": {
   "codemirror_mode": {
    "name": "ipython",
    "version": 3
   },
   "file_extension": ".py",
   "mimetype": "text/x-python",
   "name": "python",
   "nbconvert_exporter": "python",
   "pygments_lexer": "ipython3",
   "version": "3.7.6"
  }
 },
 "nbformat": 4,
 "nbformat_minor": 4
}
